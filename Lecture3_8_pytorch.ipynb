{
 "cells": [
  {
   "cell_type": "code",
   "execution_count": 1,
   "id": "218d8447",
   "metadata": {},
   "outputs": [],
   "source": [
    "import torch\n",
    "import torch.nn as nn\n",
    "import torch.optim as optim\n",
    "from torchvision import datasets, transforms, models\n",
    "from torch.utils.data import DataLoader\n",
    "import wandb\n",
    "import os\n",
    "from PIL import Image\n",
    "from torch.utils.data import Dataset"
   ]
  },
  {
   "cell_type": "code",
   "execution_count": null,
   "id": "53d6a4f9",
   "metadata": {},
   "outputs": [
    {
     "name": "stdout",
     "output_type": "stream",
     "text": [
      "Create sweep with ID: 7wva7j8c\n",
      "Sweep URL: https://wandb.ai/fangselection123-happiest-minds-technologies/5-Flower-Dataset-4/sweeps/7wva7j8c\n"
     ]
    }
   ],
   "source": [
    "sweep_config = {\n",
    "    'method' : 'grid',\n",
    "    'metric': {\n",
    "        'name' : 'val_accuracy',\n",
    "        'goal' : 'maximize'\n",
    "    },\n",
    "    'parameters' : {\n",
    "        'batch_size' : { 'values' : [8, 16]},\n",
    "        'learning_rate' : { 'values' : [0.001, 0.0001]},\n",
    "        'hidden_nodes': {'values' : [32, 64]},\n",
    "        'img_size' : {'values' : [224]},\n",
    "        'epochs' : {'values': [5, 10]}\n",
    "        }\n",
    "}\n",
    "sweep_id = wandb.sweep(sweep_config, project=\"5-Flower-Dataset-4\")"
   ]
  },
  {
   "cell_type": "code",
   "execution_count": 3,
   "id": "ad3285f3",
   "metadata": {},
   "outputs": [],
   "source": [
    "# =======================\n",
    "# STEP 0: Initialize wandb\n",
    "# =======================\n",
    "\n",
    "\n",
    "# wandb.init(project=\"alexnet-flowers-v2\", config={\n",
    "#     \"epochs\": 10,\n",
    "#     \"batch_size\": 16,\n",
    "#     \"learning_rate\": 0.001,\n",
    "#     \"architecture\": \"alexnet\",\n",
    "#     \"pretrained\": True,\n",
    "#     \"input_size\": 128\n",
    "# })\n",
    "\n",
    "# Shortcut to config values\n",
    "# config = wandb.config"
   ]
  },
  {
   "cell_type": "code",
   "execution_count": 4,
   "id": "34e2326e",
   "metadata": {},
   "outputs": [],
   "source": [
    "\n",
    "\n",
    "class CustomFlowersDataset(Dataset):\n",
    "    def __init__(self, root_dir, transform=None):\n",
    "        self.transform = transform\n",
    "        self.image_paths = []\n",
    "        self.labels = []\n",
    "        self.class_to_idx = {}\n",
    "\n",
    "        class_names = sorted(os.listdir(root_dir))\n",
    "        self.class_to_idx = {class_name: idx for idx, class_name in enumerate(class_names)}\n",
    "        for class_name in class_names:\n",
    "            class_dir = os.path. join(root_dir, class_name)\n",
    "            for img_name in os.listdir(class_dir):\n",
    "                img_path =os.path.join(class_dir, img_name)\n",
    "                if img_name.lower().endswith(('.png', '.jpg', '.jpeg')):\n",
    "                    self.image_paths.append(img_path)\n",
    "                    self.labels.append(self.class_to_idx[class_name])\n",
    "        \n",
    "    def __len__(self):\n",
    "        return len(self.image_paths)\n",
    "    def __getitem__(self, idx):\n",
    "        img_path = self.image_paths[idx]\n",
    "        label = self.labels[idx]\n",
    "        image = Image.open(img_path).convert('RGB')\n",
    "        \n",
    "        if self.transform:\n",
    "            image = self.transform(image)\n",
    "        \n",
    "        return image, label\n"
   ]
  },
  {
   "cell_type": "code",
   "execution_count": 2,
   "id": "ef6be26b",
   "metadata": {},
   "outputs": [],
   "source": [
    "class SimpleCNNModel(nn.Module):  \n",
    "    def __init__(self):\n",
    "        super(SimpleCNNModel, self).__init__()\n",
    "        self.conv1 = nn.Conv2d(in_channels=3, out_channels=96, kernel_size=11, stride=4, padding=2)\n",
    "        self.conv2 = nn.Conv2d(in_channels=96, out_channels=256, kernel_size=5, stride=1, padding=2)\n",
    "        self.pool1 = nn.MaxPool2d(kernel_size=3, stride=2)\n",
    "        self.conv3 = nn.Conv2d(in_channels=256, out_channels=384, kernel_size=3, stride=1, padding=1)\n",
    "        self.pool2 = nn.MaxPool2d(kernel_size=3, stride=2)\n",
    "        self.conv4 = nn.Conv2d(in_channels=384, out_channels=384, kernel_size=3, stride=1, padding=1)\n",
    "        self.conv5 = nn.Conv2d(in_channels =384, out_channels= 256, kernel_size=3, stride=1, padding =1)\n",
    "        self.pool3 = nn.MaxPool2d(kernel_size =3, stride=2)\n",
    "        self.flatten = nn.Flatten()\n",
    "        # Fully connected layers\n",
    "        self.fc1 = nn.Linear(6*6*256, 4096)\n",
    "        self.dropout = nn.Dropout(p=0.5)  # Dropout layer for regularization\n",
    "        self.fc2 = nn.Linear(4096, 4096)\n",
    "        self.relu = nn.ReLU()\n",
    "        self.fc3 = nn.Linear(4096, 5)  # Output layer for 5 classes\n",
    "\n",
    "        # self.fc1 = nn.Linear(config.img_size * config.img_size * 3, config.hidden_nodes)\n",
    "        # self.bn1 = nn.BatchNorm1d(config.hidden_nodes)\n",
    "        # Output layer for 5 classes\n",
    "        # self.dropout = nn.Dropout(p=0.2)\n",
    "        # self.fc2 = nn.Linear(config.hidden_nodes, 5)\n",
    "\n",
    "    def forward(self, x):\n",
    "        x = self.conv1(x)\n",
    "        # print(x.shape)\n",
    "        x= self.relu(x)\n",
    "        x=self.conv2(x)\n",
    "        # print(x.shape)\n",
    "\n",
    "        x = self.relu(x)\n",
    "        x = self.pool1(x)\n",
    "        # print(x.shape)\n",
    "\n",
    "        x = self.conv3(x)\n",
    "        # print(x.shape)\n",
    "\n",
    "        x = self.relu(x)\n",
    "        x = self.pool2(x)\n",
    "        # print(x.shape)\n",
    "\n",
    "        x=self.relu(x)\n",
    "        x = self.conv4(x)\n",
    "        # print(x.shape)\n",
    "\n",
    "        x = self.relu(x)\n",
    "        x = self.conv5(x)\n",
    "        # print(x.shape)\n",
    "\n",
    "        x= self.relu(x)\n",
    "        x = self.pool3(x)\n",
    "        # print(x.shape)\n",
    "\n",
    "        x = self.flatten(x)\n",
    "        # print(x.shape)\n",
    "\n",
    "        x= self.fc1(x)\n",
    "        # print(x.shape)\n",
    "\n",
    "        x = self.relu(x)\n",
    "        x= self.dropout(x)\n",
    "        x = self.fc2(x)\n",
    "        # print(x.shape)\n",
    "\n",
    "        x = self.relu(x)\n",
    "        x = self.dropout(x)\n",
    "        x = self.fc3(x)\n",
    "        return x  # No softmax needed; use CrossEntropyLoss\n",
    "model = SimpleCNNModel()\n",
    "# print(model)"
   ]
  },
  {
   "cell_type": "code",
   "execution_count": 4,
   "id": "fbc9ac73",
   "metadata": {},
   "outputs": [
    {
     "name": "stdout",
     "output_type": "stream",
     "text": [
      "----------------------------------------------------------------\n",
      "        Layer (type)               Output Shape         Param #\n",
      "================================================================\n",
      "            Conv2d-1           [-1, 96, 55, 55]          34,944\n",
      "              ReLU-2           [-1, 96, 55, 55]               0\n",
      "            Conv2d-3          [-1, 256, 55, 55]         614,656\n",
      "              ReLU-4          [-1, 256, 55, 55]               0\n",
      "         MaxPool2d-5          [-1, 256, 27, 27]               0\n",
      "            Conv2d-6          [-1, 384, 27, 27]         885,120\n",
      "              ReLU-7          [-1, 384, 27, 27]               0\n",
      "         MaxPool2d-8          [-1, 384, 13, 13]               0\n",
      "              ReLU-9          [-1, 384, 13, 13]               0\n",
      "           Conv2d-10          [-1, 384, 13, 13]       1,327,488\n",
      "             ReLU-11          [-1, 384, 13, 13]               0\n",
      "           Conv2d-12          [-1, 256, 13, 13]         884,992\n",
      "             ReLU-13          [-1, 256, 13, 13]               0\n",
      "        MaxPool2d-14            [-1, 256, 6, 6]               0\n",
      "          Flatten-15                 [-1, 9216]               0\n",
      "           Linear-16                 [-1, 4096]      37,752,832\n",
      "             ReLU-17                 [-1, 4096]               0\n",
      "          Dropout-18                 [-1, 4096]               0\n",
      "           Linear-19                 [-1, 4096]      16,781,312\n",
      "             ReLU-20                 [-1, 4096]               0\n",
      "          Dropout-21                 [-1, 4096]               0\n",
      "           Linear-22                    [-1, 5]          20,485\n",
      "================================================================\n",
      "Total params: 58,301,829\n",
      "Trainable params: 58,301,829\n",
      "Non-trainable params: 0\n",
      "----------------------------------------------------------------\n",
      "Input size (MB): 0.57\n",
      "Forward/backward pass size (MB): 24.91\n",
      "Params size (MB): 222.40\n",
      "Estimated Total Size (MB): 247.89\n",
      "----------------------------------------------------------------\n"
     ]
    }
   ],
   "source": [
    "from torchsummary import summary\n",
    "\n",
    "model = SimpleCNNModel()\n",
    "summary(model, input_size=(3, 224, 224))  # adjust input size accordingly\n"
   ]
  },
  {
   "cell_type": "code",
   "execution_count": 6,
   "id": "e16863ec",
   "metadata": {},
   "outputs": [],
   "source": [
    "# import torch\n",
    "# model = SimpleCNNModel()\n",
    "# dummy_input = torch.randn(1, 3, 224, 224)\n",
    "# output = model(dummy_input)"
   ]
  },
  {
   "cell_type": "code",
   "execution_count": 7,
   "id": "d113a211",
   "metadata": {},
   "outputs": [
    {
     "name": "stderr",
     "output_type": "stream",
     "text": [
      "/home/ajit.kumar4@happiestminds.com/Documents/Drackula/ComputerVisionFromScratch/venv/lib/python3.10/site-packages/torchvision/models/_utils.py:208: UserWarning: The parameter 'pretrained' is deprecated since 0.13 and may be removed in the future, please use 'weights' instead.\n",
      "  warnings.warn(\n",
      "/home/ajit.kumar4@happiestminds.com/Documents/Drackula/ComputerVisionFromScratch/venv/lib/python3.10/site-packages/torchvision/models/_utils.py:223: UserWarning: Arguments other than a weight enum or `None` for 'weights' are deprecated since 0.13 and may be removed in the future. The current behavior is equivalent to passing `weights=AlexNet_Weights.IMAGENET1K_V1`. You can also use `weights=AlexNet_Weights.DEFAULT` to get the most up-to-date weights.\n",
      "  warnings.warn(msg)\n"
     ]
    },
    {
     "name": "stdout",
     "output_type": "stream",
     "text": [
      "AlexNet(\n",
      "  (features): Sequential(\n",
      "    (0): Conv2d(3, 64, kernel_size=(11, 11), stride=(4, 4), padding=(2, 2))\n",
      "    (1): ReLU(inplace=True)\n",
      "    (2): MaxPool2d(kernel_size=3, stride=2, padding=0, dilation=1, ceil_mode=False)\n",
      "    (3): Conv2d(64, 192, kernel_size=(5, 5), stride=(1, 1), padding=(2, 2))\n",
      "    (4): ReLU(inplace=True)\n",
      "    (5): MaxPool2d(kernel_size=3, stride=2, padding=0, dilation=1, ceil_mode=False)\n",
      "    (6): Conv2d(192, 384, kernel_size=(3, 3), stride=(1, 1), padding=(1, 1))\n",
      "    (7): ReLU(inplace=True)\n",
      "    (8): Conv2d(384, 256, kernel_size=(3, 3), stride=(1, 1), padding=(1, 1))\n",
      "    (9): ReLU(inplace=True)\n",
      "    (10): Conv2d(256, 256, kernel_size=(3, 3), stride=(1, 1), padding=(1, 1))\n",
      "    (11): ReLU(inplace=True)\n",
      "    (12): MaxPool2d(kernel_size=3, stride=2, padding=0, dilation=1, ceil_mode=False)\n",
      "  )\n",
      "  (avgpool): AdaptiveAvgPool2d(output_size=(6, 6))\n",
      "  (classifier): Sequential(\n",
      "    (0): Dropout(p=0.5, inplace=False)\n",
      "    (1): Linear(in_features=9216, out_features=4096, bias=True)\n",
      "    (2): ReLU(inplace=True)\n",
      "    (3): Dropout(p=0.5, inplace=False)\n",
      "    (4): Linear(in_features=4096, out_features=4096, bias=True)\n",
      "    (5): ReLU(inplace=True)\n",
      "    (6): Linear(in_features=4096, out_features=5, bias=True)\n",
      "  )\n",
      ")\n"
     ]
    }
   ],
   "source": [
    "import torchvision.models as models\n",
    "model = models.alexnet(pretrained=True)\n",
    "model.classifier[6] = nn.Linear(4096, 5)\n",
    "print(model)"
   ]
  },
  {
   "cell_type": "code",
   "execution_count": 8,
   "id": "56583d6c",
   "metadata": {},
   "outputs": [],
   "source": [
    "# import os\n",
    "\n",
    "# path = \"/home/ajit.kumar4@happiestminds.com/Documents/Drackula/ComputerVisionFromScratch/Data/flowers/train/.DS_Store\"\n",
    "# path = \"/home/ajit.kumar4@happiestminds.com/Documents/Drackula/ComputerVisionFromScratch/Data/flowers/val/.DS_Store\"\n",
    "\n",
    "# # Remove .DS_Store if it exists\n",
    "# if os.path.exists(path):\n",
    "#     os.remove(path)\n",
    "#     print(f\"Deleted: {path}\")\n",
    "# else:\n",
    "#     print(f\"File does not exist: {path}\")\n"
   ]
  },
  {
   "cell_type": "code",
   "execution_count": 9,
   "id": "4c99467e",
   "metadata": {},
   "outputs": [],
   "source": [
    "def train():\n",
    "    with wandb.init() as run:\n",
    "        config= wandb.config\n",
    "        train_dir=\"Data/flowers/train\"\n",
    "        test_dir=\"Data/flowers/val\"\n",
    "        transform = transforms.Compose([\n",
    "            transforms.Resize((config.img_size, config.img_size)),\n",
    "            transforms.ToTensor(),\n",
    "            transforms.Normalize([0.485, 0.456, 0.406], [0.229, 0.224, 0.225])\n",
    "        ])\n",
    "\n",
    "\n",
    "\n",
    "        train_dataset = CustomFlowersDataset(train_dir, transform=transform)\n",
    "        test_dataset = CustomFlowersDataset(test_dir, transform=transform)\n",
    "        train_loader = DataLoader(train_dataset, batch_size=config.batch_size, shuffle=True)\n",
    "        test_loader = DataLoader(test_dataset, batch_size=config.batch_size, shuffle=False)\n",
    "\n",
    "\n",
    "        class SimpleModel(nn.Module):\n",
    "            def __init__(self):\n",
    "                super(SimpleModel, self).__init__()\n",
    "                self.flatten = nn.Flatten()\n",
    "                self.fc1 = nn.Linear(config.img_size * config.img_size * 3, config.hidden_nodes)\n",
    "                self.bn1 = nn.BatchNorm1d(config.hidden_nodes)\n",
    "                # Output layer for 5 classes\n",
    "                self.relu = nn.ReLU()\n",
    "                self.dropout = nn.Dropout(p=0.2)\n",
    "                self.fc2 = nn.Linear(config.hidden_nodes, 5)\n",
    "\n",
    "            def forward(self, x):\n",
    "                x = self.flatten(x)\n",
    "                x = self.fc1(x)\n",
    "                x= self.bn1(x)\n",
    "                x = self.relu(x)\n",
    "                x = self.dropout(x)\n",
    "                x = self.fc2(x)\n",
    "                return x  # No softmax needed; use CrossEntropyLoss\n",
    "        model = SimpleCNNModel()\n",
    "        # -----------------------------\n",
    "        # Training Setup\n",
    "        # -----------------------------\n",
    "        device = torch.device(\"cuda\" if torch.cuda.is_available() else \"cpu\")\n",
    "        model.to(device)\n",
    "\n",
    "        criterion = nn.CrossEntropyLoss()\n",
    "        optimizer = optim.Adam(model.parameters(), lr=config.learning_rate, weight_decay=1e-5) # l2 regularization\n",
    "        # shedule = torch.optim.lr_scheduler.StepLR(optimizer, step_size=5, gamma=0.1)\n",
    "\n",
    "        # -----------------------------\n",
    "        # Training Loop\n",
    "        # -----------------------------\n",
    "        EPOCHS = 10\n",
    "        for epoch in range(EPOCHS):\n",
    "            model.train()\n",
    "            train_loss = 0\n",
    "            train_correct = 0\n",
    "            train_total = 0\n",
    "\n",
    "            for i, (images, labels) in enumerate(train_loader):\n",
    "                images = images.to(device)\n",
    "                labels = labels.to(device)\n",
    "\n",
    "                outputs = model(images)\n",
    "                loss = criterion(outputs, labels)\n",
    "                # L1 regularization (manual)\n",
    "                # l1_lambda = 1e-5\n",
    "                # l1_loss = sum(torch.sum(torch.abs(param)) for param in model.parameters())\n",
    "                # loss += l1_lambda * l1_loss\n",
    "\n",
    "                optimizer.zero_grad()\n",
    "                loss.backward()\n",
    "                optimizer.step()\n",
    "                # shedule.step()\n",
    "\n",
    "                train_loss += loss.item()\n",
    "                _, preds = torch.max(outputs, 1)\n",
    "                batch_correct = (preds == labels).sum().item()\n",
    "                train_correct += batch_correct\n",
    "                train_total += labels.size(0)\n",
    "                # Print every 10 batches\n",
    "                if(i + 1) % 10 == 0:\n",
    "                    batch_acc = batch_correct / labels.size(0)\n",
    "                    print(f\"[Batch {i+1}/{len(train_loader)}] Loss: {loss.item():.4f}, Batch Acc: {batch_acc:.4f}\")\n",
    "\n",
    "            train_accuracy = train_correct / train_total\n",
    "            wandb.log({\"epoch\": epoch + 1, \"train_loss\": train_loss, \"train_accuracy\": train_accuracy})\n",
    "            print(f\"Epoch {epoch+1} Summary - Loss: {train_loss:.4f}, Train Accuracy: {train_accuracy:.4f}\")\n",
    "\n",
    "            # -----------------------------\n",
    "            # # Evaluation (Optional)\n",
    "            # # -----------------------------\n",
    "        model.eval()\n",
    "        test_correct = 0\n",
    "        test_total = 0\n",
    "        test_loss = 0\n",
    "        with torch.no_grad():\n",
    "            for images, labels in test_loader:\n",
    "                images = images.to(device)\n",
    "                labels = labels.to(device)\n",
    "                outputs = model(images)\n",
    "                loss = criterion(outputs, labels)\n",
    "                test_loss += loss.item()\n",
    "                _, preds = torch.max(outputs, 1)\n",
    "                test_correct += (preds == labels).sum().item()\n",
    "                test_total += labels.size(0)\n",
    "        test_accuracy = test_correct / test_total\n",
    "        wandb.log({\"test_loss\": test_loss, \"test_accuracy\": test_accuracy})\n",
    "        print(f\"Test Accuracy: {test_correct / test_total:.4f}\")\n",
    "\n",
    "\n",
    "        \n",
    "\n",
    "\n"
   ]
  },
  {
   "cell_type": "code",
   "execution_count": null,
   "id": "3e4fe1eb",
   "metadata": {},
   "outputs": [
    {
     "name": "stderr",
     "output_type": "stream",
     "text": [
      "\u001b[34m\u001b[1mwandb\u001b[0m: Agent Starting Run: 1ymhh182 with config:\n",
      "\u001b[34m\u001b[1mwandb\u001b[0m: \tbatch_size: 8\n",
      "\u001b[34m\u001b[1mwandb\u001b[0m: \tepochs: 5\n",
      "\u001b[34m\u001b[1mwandb\u001b[0m: \thidden_nodes: 32\n",
      "\u001b[34m\u001b[1mwandb\u001b[0m: \timg_size: 224\n",
      "\u001b[34m\u001b[1mwandb\u001b[0m: \tlearning_rate: 0.001\n",
      "\u001b[34m\u001b[1mwandb\u001b[0m: Currently logged in as: \u001b[33mfangselection123\u001b[0m (\u001b[33mfangselection123-happiest-minds-technologies\u001b[0m) to \u001b[32mhttps://api.wandb.ai\u001b[0m. Use \u001b[1m`wandb login --relogin`\u001b[0m to force relogin\n"
     ]
    },
    {
     "data": {
      "text/html": [
       "Tracking run with wandb version 0.20.1"
      ],
      "text/plain": [
       "<IPython.core.display.HTML object>"
      ]
     },
     "metadata": {},
     "output_type": "display_data"
    },
    {
     "data": {
      "text/html": [
       "Run data is saved locally in <code>/home/ajit.kumar4@happiestminds.com/Documents/Drackula/ComputerVisionFromScratch/wandb/run-20250616_010619-1ymhh182</code>"
      ],
      "text/plain": [
       "<IPython.core.display.HTML object>"
      ]
     },
     "metadata": {},
     "output_type": "display_data"
    },
    {
     "data": {
      "text/html": [
       "Syncing run <strong><a href='https://wandb.ai/fangselection123-happiest-minds-technologies/5-Flower-Dataset-4/runs/1ymhh182' target=\"_blank\">polished-sweep-1</a></strong> to <a href='https://wandb.ai/fangselection123-happiest-minds-technologies/5-Flower-Dataset-4' target=\"_blank\">Weights & Biases</a> (<a href='https://wandb.me/developer-guide' target=\"_blank\">docs</a>)<br>Sweep page: <a href='https://wandb.ai/fangselection123-happiest-minds-technologies/5-Flower-Dataset-4/sweeps/7wva7j8c' target=\"_blank\">https://wandb.ai/fangselection123-happiest-minds-technologies/5-Flower-Dataset-4/sweeps/7wva7j8c</a>"
      ],
      "text/plain": [
       "<IPython.core.display.HTML object>"
      ]
     },
     "metadata": {},
     "output_type": "display_data"
    },
    {
     "data": {
      "text/html": [
       " View project at <a href='https://wandb.ai/fangselection123-happiest-minds-technologies/5-Flower-Dataset-4' target=\"_blank\">https://wandb.ai/fangselection123-happiest-minds-technologies/5-Flower-Dataset-4</a>"
      ],
      "text/plain": [
       "<IPython.core.display.HTML object>"
      ]
     },
     "metadata": {},
     "output_type": "display_data"
    },
    {
     "data": {
      "text/html": [
       " View sweep at <a href='https://wandb.ai/fangselection123-happiest-minds-technologies/5-Flower-Dataset-4/sweeps/7wva7j8c' target=\"_blank\">https://wandb.ai/fangselection123-happiest-minds-technologies/5-Flower-Dataset-4/sweeps/7wva7j8c</a>"
      ],
      "text/plain": [
       "<IPython.core.display.HTML object>"
      ]
     },
     "metadata": {},
     "output_type": "display_data"
    },
    {
     "data": {
      "text/html": [
       " View run at <a href='https://wandb.ai/fangselection123-happiest-minds-technologies/5-Flower-Dataset-4/runs/1ymhh182' target=\"_blank\">https://wandb.ai/fangselection123-happiest-minds-technologies/5-Flower-Dataset-4/runs/1ymhh182</a>"
      ],
      "text/plain": [
       "<IPython.core.display.HTML object>"
      ]
     },
     "metadata": {},
     "output_type": "display_data"
    },
    {
     "name": "stdout",
     "output_type": "stream",
     "text": [
      "[Batch 10/501] Loss: 1.5819, Batch Acc: 0.3750\n",
      "[Batch 20/501] Loss: 1.6066, Batch Acc: 0.1250\n",
      "[Batch 30/501] Loss: 1.6112, Batch Acc: 0.0000\n",
      "[Batch 40/501] Loss: 1.5931, Batch Acc: 0.2500\n"
     ]
    }
   ],
   "source": [
    "wandb.agent(sweep_id, function=train)"
   ]
  },
  {
   "cell_type": "code",
   "execution_count": null,
   "id": "672d66a1",
   "metadata": {},
   "outputs": [],
   "source": [
    "# print(len(train_dataset), len(test_dataset))\n",
    "# print(len(train_loader), len(test_loader))\n",
    "# for img, label in train_dataset:\n",
    "#     print(img.shape, label)\n",
    "#     break\n",
    "# for img, label in test_dataset:\n",
    "#     print(img.shape, label)\n",
    "#     break\n",
    "# for img, label in train_loader:\n",
    "#     print(img.shape, label)\n",
    "#     break   \n",
    "\n",
    "# for img, label in test_loader:\n",
    "#     print(img.shape, label)\n",
    "#     break\n"
   ]
  },
  {
   "cell_type": "code",
   "execution_count": null,
   "id": "fbbe8724",
   "metadata": {},
   "outputs": [
    {
     "name": "stderr",
     "output_type": "stream",
     "text": [
      "\u001b[34m\u001b[1mwandb\u001b[0m: Agent Starting Run: 62pjvwiu with config:\n",
      "\u001b[34m\u001b[1mwandb\u001b[0m: \tbatch_size: 8\n",
      "\u001b[34m\u001b[1mwandb\u001b[0m: \tepochs: 5\n",
      "\u001b[34m\u001b[1mwandb\u001b[0m: \thidden_nodes: 64\n",
      "\u001b[34m\u001b[1mwandb\u001b[0m: \timg_size: 224\n",
      "\u001b[34m\u001b[1mwandb\u001b[0m: \tlearning_rate: 0.0001\n"
     ]
    },
    {
     "data": {
      "text/html": [
       "Tracking run with wandb version 0.20.1"
      ],
      "text/plain": [
       "<IPython.core.display.HTML object>"
      ]
     },
     "metadata": {},
     "output_type": "display_data"
    },
    {
     "data": {
      "text/html": [
       "Run data is saved locally in <code>/home/ajit.kumar4@happiestminds.com/Documents/Drackula/ComputerVisionFromScratch/wandb/run-20250616_005446-62pjvwiu</code>"
      ],
      "text/plain": [
       "<IPython.core.display.HTML object>"
      ]
     },
     "metadata": {},
     "output_type": "display_data"
    },
    {
     "data": {
      "text/html": [
       "Syncing run <strong><a href='https://wandb.ai/fangselection123-happiest-minds-technologies/5-Flower-Dataset-4/runs/62pjvwiu' target=\"_blank\">morning-sweep-4</a></strong> to <a href='https://wandb.ai/fangselection123-happiest-minds-technologies/5-Flower-Dataset-4' target=\"_blank\">Weights & Biases</a> (<a href='https://wandb.me/developer-guide' target=\"_blank\">docs</a>)<br>Sweep page: <a href='https://wandb.ai/fangselection123-happiest-minds-technologies/5-Flower-Dataset-4/sweeps/tk9zjxha' target=\"_blank\">https://wandb.ai/fangselection123-happiest-minds-technologies/5-Flower-Dataset-4/sweeps/tk9zjxha</a>"
      ],
      "text/plain": [
       "<IPython.core.display.HTML object>"
      ]
     },
     "metadata": {},
     "output_type": "display_data"
    },
    {
     "data": {
      "text/html": [
       " View project at <a href='https://wandb.ai/fangselection123-happiest-minds-technologies/5-Flower-Dataset-4' target=\"_blank\">https://wandb.ai/fangselection123-happiest-minds-technologies/5-Flower-Dataset-4</a>"
      ],
      "text/plain": [
       "<IPython.core.display.HTML object>"
      ]
     },
     "metadata": {},
     "output_type": "display_data"
    },
    {
     "data": {
      "text/html": [
       " View sweep at <a href='https://wandb.ai/fangselection123-happiest-minds-technologies/5-Flower-Dataset-4/sweeps/tk9zjxha' target=\"_blank\">https://wandb.ai/fangselection123-happiest-minds-technologies/5-Flower-Dataset-4/sweeps/tk9zjxha</a>"
      ],
      "text/plain": [
       "<IPython.core.display.HTML object>"
      ]
     },
     "metadata": {},
     "output_type": "display_data"
    },
    {
     "data": {
      "text/html": [
       " View run at <a href='https://wandb.ai/fangselection123-happiest-minds-technologies/5-Flower-Dataset-4/runs/62pjvwiu' target=\"_blank\">https://wandb.ai/fangselection123-happiest-minds-technologies/5-Flower-Dataset-4/runs/62pjvwiu</a>"
      ],
      "text/plain": [
       "<IPython.core.display.HTML object>"
      ]
     },
     "metadata": {},
     "output_type": "display_data"
    },
    {
     "name": "stderr",
     "output_type": "stream",
     "text": [
      "Traceback (most recent call last):\n",
      "  File \"/tmp/ipykernel_91050/3860654642.py\", line 64, in train\n",
      "    outputs = model(images)\n",
      "  File \"/home/ajit.kumar4@happiestminds.com/Documents/Drackula/ComputerVisionFromScratch/venv/lib/python3.10/site-packages/torch/nn/modules/module.py\", line 1751, in _wrapped_call_impl\n",
      "    return self._call_impl(*args, **kwargs)\n",
      "  File \"/home/ajit.kumar4@happiestminds.com/Documents/Drackula/ComputerVisionFromScratch/venv/lib/python3.10/site-packages/torch/nn/modules/module.py\", line 1762, in _call_impl\n",
      "    return forward_call(*args, **kwargs)\n",
      "  File \"/tmp/ipykernel_91050/1075812509.py\", line 42, in forward\n",
      "    x= self.fc1(x)\n",
      "  File \"/home/ajit.kumar4@happiestminds.com/Documents/Drackula/ComputerVisionFromScratch/venv/lib/python3.10/site-packages/torch/nn/modules/module.py\", line 1751, in _wrapped_call_impl\n",
      "    return self._call_impl(*args, **kwargs)\n",
      "  File \"/home/ajit.kumar4@happiestminds.com/Documents/Drackula/ComputerVisionFromScratch/venv/lib/python3.10/site-packages/torch/nn/modules/module.py\", line 1762, in _call_impl\n",
      "    return forward_call(*args, **kwargs)\n",
      "  File \"/home/ajit.kumar4@happiestminds.com/Documents/Drackula/ComputerVisionFromScratch/venv/lib/python3.10/site-packages/torch/nn/modules/linear.py\", line 125, in forward\n",
      "    return F.linear(input, self.weight, self.bias)\n",
      "RuntimeError: mat1 and mat2 shapes cannot be multiplied (8x6400 and 9216x4096)\n"
     ]
    },
    {
     "data": {
      "text/html": [],
      "text/plain": [
       "<IPython.core.display.HTML object>"
      ]
     },
     "metadata": {},
     "output_type": "display_data"
    },
    {
     "data": {
      "text/html": [
       " View run <strong style=\"color:#cdcd00\">morning-sweep-4</strong> at: <a href='https://wandb.ai/fangselection123-happiest-minds-technologies/5-Flower-Dataset-4/runs/62pjvwiu' target=\"_blank\">https://wandb.ai/fangselection123-happiest-minds-technologies/5-Flower-Dataset-4/runs/62pjvwiu</a><br> View project at: <a href='https://wandb.ai/fangselection123-happiest-minds-technologies/5-Flower-Dataset-4' target=\"_blank\">https://wandb.ai/fangselection123-happiest-minds-technologies/5-Flower-Dataset-4</a><br>Synced 5 W&B file(s), 0 media file(s), 0 artifact file(s) and 0 other file(s)"
      ],
      "text/plain": [
       "<IPython.core.display.HTML object>"
      ]
     },
     "metadata": {},
     "output_type": "display_data"
    },
    {
     "data": {
      "text/html": [
       "Find logs at: <code>./wandb/run-20250616_005446-62pjvwiu/logs</code>"
      ],
      "text/plain": [
       "<IPython.core.display.HTML object>"
      ]
     },
     "metadata": {},
     "output_type": "display_data"
    },
    {
     "name": "stderr",
     "output_type": "stream",
     "text": [
      "\u001b[34m\u001b[1mwandb\u001b[0m: \u001b[32m\u001b[41mERROR\u001b[0m Run 62pjvwiu errored:\n",
      "\u001b[34m\u001b[1mwandb\u001b[0m: \u001b[32m\u001b[41mERROR\u001b[0m Traceback (most recent call last):\n",
      "\u001b[34m\u001b[1mwandb\u001b[0m: \u001b[32m\u001b[41mERROR\u001b[0m   File \"/home/ajit.kumar4@happiestminds.com/Documents/Drackula/ComputerVisionFromScratch/venv/lib/python3.10/site-packages/wandb/agents/pyagent.py\", line 302, in _run_job\n",
      "\u001b[34m\u001b[1mwandb\u001b[0m: \u001b[32m\u001b[41mERROR\u001b[0m     self._function()\n",
      "\u001b[34m\u001b[1mwandb\u001b[0m: \u001b[32m\u001b[41mERROR\u001b[0m   File \"/tmp/ipykernel_91050/3860654642.py\", line 64, in train\n",
      "\u001b[34m\u001b[1mwandb\u001b[0m: \u001b[32m\u001b[41mERROR\u001b[0m     outputs = model(images)\n",
      "\u001b[34m\u001b[1mwandb\u001b[0m: \u001b[32m\u001b[41mERROR\u001b[0m   File \"/home/ajit.kumar4@happiestminds.com/Documents/Drackula/ComputerVisionFromScratch/venv/lib/python3.10/site-packages/torch/nn/modules/module.py\", line 1751, in _wrapped_call_impl\n",
      "\u001b[34m\u001b[1mwandb\u001b[0m: \u001b[32m\u001b[41mERROR\u001b[0m     return self._call_impl(*args, **kwargs)\n",
      "\u001b[34m\u001b[1mwandb\u001b[0m: \u001b[32m\u001b[41mERROR\u001b[0m   File \"/home/ajit.kumar4@happiestminds.com/Documents/Drackula/ComputerVisionFromScratch/venv/lib/python3.10/site-packages/torch/nn/modules/module.py\", line 1762, in _call_impl\n",
      "\u001b[34m\u001b[1mwandb\u001b[0m: \u001b[32m\u001b[41mERROR\u001b[0m     return forward_call(*args, **kwargs)\n",
      "\u001b[34m\u001b[1mwandb\u001b[0m: \u001b[32m\u001b[41mERROR\u001b[0m   File \"/tmp/ipykernel_91050/1075812509.py\", line 42, in forward\n",
      "\u001b[34m\u001b[1mwandb\u001b[0m: \u001b[32m\u001b[41mERROR\u001b[0m     x= self.fc1(x)\n",
      "\u001b[34m\u001b[1mwandb\u001b[0m: \u001b[32m\u001b[41mERROR\u001b[0m   File \"/home/ajit.kumar4@happiestminds.com/Documents/Drackula/ComputerVisionFromScratch/venv/lib/python3.10/site-packages/torch/nn/modules/module.py\", line 1751, in _wrapped_call_impl\n",
      "\u001b[34m\u001b[1mwandb\u001b[0m: \u001b[32m\u001b[41mERROR\u001b[0m     return self._call_impl(*args, **kwargs)\n",
      "\u001b[34m\u001b[1mwandb\u001b[0m: \u001b[32m\u001b[41mERROR\u001b[0m   File \"/home/ajit.kumar4@happiestminds.com/Documents/Drackula/ComputerVisionFromScratch/venv/lib/python3.10/site-packages/torch/nn/modules/module.py\", line 1762, in _call_impl\n",
      "\u001b[34m\u001b[1mwandb\u001b[0m: \u001b[32m\u001b[41mERROR\u001b[0m     return forward_call(*args, **kwargs)\n",
      "\u001b[34m\u001b[1mwandb\u001b[0m: \u001b[32m\u001b[41mERROR\u001b[0m   File \"/home/ajit.kumar4@happiestminds.com/Documents/Drackula/ComputerVisionFromScratch/venv/lib/python3.10/site-packages/torch/nn/modules/linear.py\", line 125, in forward\n",
      "\u001b[34m\u001b[1mwandb\u001b[0m: \u001b[32m\u001b[41mERROR\u001b[0m     return F.linear(input, self.weight, self.bias)\n",
      "\u001b[34m\u001b[1mwandb\u001b[0m: \u001b[32m\u001b[41mERROR\u001b[0m RuntimeError: mat1 and mat2 shapes cannot be multiplied (8x6400 and 9216x4096)\n",
      "\u001b[34m\u001b[1mwandb\u001b[0m: \u001b[32m\u001b[41mERROR\u001b[0m \n",
      "\u001b[34m\u001b[1mwandb\u001b[0m: Agent Starting Run: a6qt7mb5 with config:\n",
      "\u001b[34m\u001b[1mwandb\u001b[0m: \tbatch_size: 8\n",
      "\u001b[34m\u001b[1mwandb\u001b[0m: \tepochs: 10\n",
      "\u001b[34m\u001b[1mwandb\u001b[0m: \thidden_nodes: 32\n",
      "\u001b[34m\u001b[1mwandb\u001b[0m: \timg_size: 224\n",
      "\u001b[34m\u001b[1mwandb\u001b[0m: \tlearning_rate: 0.001\n"
     ]
    },
    {
     "data": {
      "text/html": [
       "Tracking run with wandb version 0.20.1"
      ],
      "text/plain": [
       "<IPython.core.display.HTML object>"
      ]
     },
     "metadata": {},
     "output_type": "display_data"
    },
    {
     "data": {
      "text/html": [
       "Run data is saved locally in <code>/home/ajit.kumar4@happiestminds.com/Documents/Drackula/ComputerVisionFromScratch/wandb/run-20250616_005452-a6qt7mb5</code>"
      ],
      "text/plain": [
       "<IPython.core.display.HTML object>"
      ]
     },
     "metadata": {},
     "output_type": "display_data"
    },
    {
     "data": {
      "text/html": [
       "Syncing run <strong><a href='https://wandb.ai/fangselection123-happiest-minds-technologies/5-Flower-Dataset-4/runs/a6qt7mb5' target=\"_blank\">dandy-sweep-5</a></strong> to <a href='https://wandb.ai/fangselection123-happiest-minds-technologies/5-Flower-Dataset-4' target=\"_blank\">Weights & Biases</a> (<a href='https://wandb.me/developer-guide' target=\"_blank\">docs</a>)<br>Sweep page: <a href='https://wandb.ai/fangselection123-happiest-minds-technologies/5-Flower-Dataset-4/sweeps/tk9zjxha' target=\"_blank\">https://wandb.ai/fangselection123-happiest-minds-technologies/5-Flower-Dataset-4/sweeps/tk9zjxha</a>"
      ],
      "text/plain": [
       "<IPython.core.display.HTML object>"
      ]
     },
     "metadata": {},
     "output_type": "display_data"
    },
    {
     "data": {
      "text/html": [
       " View project at <a href='https://wandb.ai/fangselection123-happiest-minds-technologies/5-Flower-Dataset-4' target=\"_blank\">https://wandb.ai/fangselection123-happiest-minds-technologies/5-Flower-Dataset-4</a>"
      ],
      "text/plain": [
       "<IPython.core.display.HTML object>"
      ]
     },
     "metadata": {},
     "output_type": "display_data"
    },
    {
     "data": {
      "text/html": [
       " View sweep at <a href='https://wandb.ai/fangselection123-happiest-minds-technologies/5-Flower-Dataset-4/sweeps/tk9zjxha' target=\"_blank\">https://wandb.ai/fangselection123-happiest-minds-technologies/5-Flower-Dataset-4/sweeps/tk9zjxha</a>"
      ],
      "text/plain": [
       "<IPython.core.display.HTML object>"
      ]
     },
     "metadata": {},
     "output_type": "display_data"
    },
    {
     "data": {
      "text/html": [
       " View run at <a href='https://wandb.ai/fangselection123-happiest-minds-technologies/5-Flower-Dataset-4/runs/a6qt7mb5' target=\"_blank\">https://wandb.ai/fangselection123-happiest-minds-technologies/5-Flower-Dataset-4/runs/a6qt7mb5</a>"
      ],
      "text/plain": [
       "<IPython.core.display.HTML object>"
      ]
     },
     "metadata": {},
     "output_type": "display_data"
    },
    {
     "name": "stderr",
     "output_type": "stream",
     "text": [
      "Traceback (most recent call last):\n",
      "  File \"/tmp/ipykernel_91050/3860654642.py\", line 64, in train\n",
      "    outputs = model(images)\n",
      "  File \"/home/ajit.kumar4@happiestminds.com/Documents/Drackula/ComputerVisionFromScratch/venv/lib/python3.10/site-packages/torch/nn/modules/module.py\", line 1751, in _wrapped_call_impl\n",
      "    return self._call_impl(*args, **kwargs)\n",
      "  File \"/home/ajit.kumar4@happiestminds.com/Documents/Drackula/ComputerVisionFromScratch/venv/lib/python3.10/site-packages/torch/nn/modules/module.py\", line 1762, in _call_impl\n",
      "    return forward_call(*args, **kwargs)\n",
      "  File \"/tmp/ipykernel_91050/1075812509.py\", line 42, in forward\n",
      "    x= self.fc1(x)\n",
      "  File \"/home/ajit.kumar4@happiestminds.com/Documents/Drackula/ComputerVisionFromScratch/venv/lib/python3.10/site-packages/torch/nn/modules/module.py\", line 1751, in _wrapped_call_impl\n",
      "    return self._call_impl(*args, **kwargs)\n",
      "  File \"/home/ajit.kumar4@happiestminds.com/Documents/Drackula/ComputerVisionFromScratch/venv/lib/python3.10/site-packages/torch/nn/modules/module.py\", line 1762, in _call_impl\n",
      "    return forward_call(*args, **kwargs)\n",
      "  File \"/home/ajit.kumar4@happiestminds.com/Documents/Drackula/ComputerVisionFromScratch/venv/lib/python3.10/site-packages/torch/nn/modules/linear.py\", line 125, in forward\n",
      "    return F.linear(input, self.weight, self.bias)\n",
      "RuntimeError: mat1 and mat2 shapes cannot be multiplied (8x6400 and 9216x4096)\n"
     ]
    },
    {
     "data": {
      "text/html": [],
      "text/plain": [
       "<IPython.core.display.HTML object>"
      ]
     },
     "metadata": {},
     "output_type": "display_data"
    },
    {
     "data": {
      "text/html": [
       " View run <strong style=\"color:#cdcd00\">dandy-sweep-5</strong> at: <a href='https://wandb.ai/fangselection123-happiest-minds-technologies/5-Flower-Dataset-4/runs/a6qt7mb5' target=\"_blank\">https://wandb.ai/fangselection123-happiest-minds-technologies/5-Flower-Dataset-4/runs/a6qt7mb5</a><br> View project at: <a href='https://wandb.ai/fangselection123-happiest-minds-technologies/5-Flower-Dataset-4' target=\"_blank\">https://wandb.ai/fangselection123-happiest-minds-technologies/5-Flower-Dataset-4</a><br>Synced 5 W&B file(s), 0 media file(s), 0 artifact file(s) and 0 other file(s)"
      ],
      "text/plain": [
       "<IPython.core.display.HTML object>"
      ]
     },
     "metadata": {},
     "output_type": "display_data"
    },
    {
     "data": {
      "text/html": [
       "Find logs at: <code>./wandb/run-20250616_005452-a6qt7mb5/logs</code>"
      ],
      "text/plain": [
       "<IPython.core.display.HTML object>"
      ]
     },
     "metadata": {},
     "output_type": "display_data"
    },
    {
     "name": "stderr",
     "output_type": "stream",
     "text": [
      "\u001b[34m\u001b[1mwandb\u001b[0m: \u001b[32m\u001b[41mERROR\u001b[0m Run a6qt7mb5 errored:\n",
      "\u001b[34m\u001b[1mwandb\u001b[0m: \u001b[32m\u001b[41mERROR\u001b[0m Traceback (most recent call last):\n",
      "\u001b[34m\u001b[1mwandb\u001b[0m: \u001b[32m\u001b[41mERROR\u001b[0m   File \"/home/ajit.kumar4@happiestminds.com/Documents/Drackula/ComputerVisionFromScratch/venv/lib/python3.10/site-packages/wandb/agents/pyagent.py\", line 302, in _run_job\n",
      "\u001b[34m\u001b[1mwandb\u001b[0m: \u001b[32m\u001b[41mERROR\u001b[0m     self._function()\n",
      "\u001b[34m\u001b[1mwandb\u001b[0m: \u001b[32m\u001b[41mERROR\u001b[0m   File \"/tmp/ipykernel_91050/3860654642.py\", line 64, in train\n",
      "\u001b[34m\u001b[1mwandb\u001b[0m: \u001b[32m\u001b[41mERROR\u001b[0m     outputs = model(images)\n",
      "\u001b[34m\u001b[1mwandb\u001b[0m: \u001b[32m\u001b[41mERROR\u001b[0m   File \"/home/ajit.kumar4@happiestminds.com/Documents/Drackula/ComputerVisionFromScratch/venv/lib/python3.10/site-packages/torch/nn/modules/module.py\", line 1751, in _wrapped_call_impl\n",
      "\u001b[34m\u001b[1mwandb\u001b[0m: \u001b[32m\u001b[41mERROR\u001b[0m     return self._call_impl(*args, **kwargs)\n",
      "\u001b[34m\u001b[1mwandb\u001b[0m: \u001b[32m\u001b[41mERROR\u001b[0m   File \"/home/ajit.kumar4@happiestminds.com/Documents/Drackula/ComputerVisionFromScratch/venv/lib/python3.10/site-packages/torch/nn/modules/module.py\", line 1762, in _call_impl\n",
      "\u001b[34m\u001b[1mwandb\u001b[0m: \u001b[32m\u001b[41mERROR\u001b[0m     return forward_call(*args, **kwargs)\n",
      "\u001b[34m\u001b[1mwandb\u001b[0m: \u001b[32m\u001b[41mERROR\u001b[0m   File \"/tmp/ipykernel_91050/1075812509.py\", line 42, in forward\n",
      "\u001b[34m\u001b[1mwandb\u001b[0m: \u001b[32m\u001b[41mERROR\u001b[0m     x= self.fc1(x)\n",
      "\u001b[34m\u001b[1mwandb\u001b[0m: \u001b[32m\u001b[41mERROR\u001b[0m   File \"/home/ajit.kumar4@happiestminds.com/Documents/Drackula/ComputerVisionFromScratch/venv/lib/python3.10/site-packages/torch/nn/modules/module.py\", line 1751, in _wrapped_call_impl\n",
      "\u001b[34m\u001b[1mwandb\u001b[0m: \u001b[32m\u001b[41mERROR\u001b[0m     return self._call_impl(*args, **kwargs)\n",
      "\u001b[34m\u001b[1mwandb\u001b[0m: \u001b[32m\u001b[41mERROR\u001b[0m   File \"/home/ajit.kumar4@happiestminds.com/Documents/Drackula/ComputerVisionFromScratch/venv/lib/python3.10/site-packages/torch/nn/modules/module.py\", line 1762, in _call_impl\n",
      "\u001b[34m\u001b[1mwandb\u001b[0m: \u001b[32m\u001b[41mERROR\u001b[0m     return forward_call(*args, **kwargs)\n",
      "\u001b[34m\u001b[1mwandb\u001b[0m: \u001b[32m\u001b[41mERROR\u001b[0m   File \"/home/ajit.kumar4@happiestminds.com/Documents/Drackula/ComputerVisionFromScratch/venv/lib/python3.10/site-packages/torch/nn/modules/linear.py\", line 125, in forward\n",
      "\u001b[34m\u001b[1mwandb\u001b[0m: \u001b[32m\u001b[41mERROR\u001b[0m     return F.linear(input, self.weight, self.bias)\n",
      "\u001b[34m\u001b[1mwandb\u001b[0m: \u001b[32m\u001b[41mERROR\u001b[0m RuntimeError: mat1 and mat2 shapes cannot be multiplied (8x6400 and 9216x4096)\n",
      "\u001b[34m\u001b[1mwandb\u001b[0m: \u001b[32m\u001b[41mERROR\u001b[0m \n",
      "\u001b[34m\u001b[1mwandb\u001b[0m: Agent Starting Run: pd6biagw with config:\n",
      "\u001b[34m\u001b[1mwandb\u001b[0m: \tbatch_size: 8\n",
      "\u001b[34m\u001b[1mwandb\u001b[0m: \tepochs: 10\n",
      "\u001b[34m\u001b[1mwandb\u001b[0m: \thidden_nodes: 32\n",
      "\u001b[34m\u001b[1mwandb\u001b[0m: \timg_size: 224\n",
      "\u001b[34m\u001b[1mwandb\u001b[0m: \tlearning_rate: 0.0001\n"
     ]
    },
    {
     "data": {
      "text/html": [
       "Tracking run with wandb version 0.20.1"
      ],
      "text/plain": [
       "<IPython.core.display.HTML object>"
      ]
     },
     "metadata": {},
     "output_type": "display_data"
    },
    {
     "data": {
      "text/html": [
       "Run data is saved locally in <code>/home/ajit.kumar4@happiestminds.com/Documents/Drackula/ComputerVisionFromScratch/wandb/run-20250616_005458-pd6biagw</code>"
      ],
      "text/plain": [
       "<IPython.core.display.HTML object>"
      ]
     },
     "metadata": {},
     "output_type": "display_data"
    },
    {
     "data": {
      "text/html": [
       "Syncing run <strong><a href='https://wandb.ai/fangselection123-happiest-minds-technologies/5-Flower-Dataset-4/runs/pd6biagw' target=\"_blank\">northern-sweep-6</a></strong> to <a href='https://wandb.ai/fangselection123-happiest-minds-technologies/5-Flower-Dataset-4' target=\"_blank\">Weights & Biases</a> (<a href='https://wandb.me/developer-guide' target=\"_blank\">docs</a>)<br>Sweep page: <a href='https://wandb.ai/fangselection123-happiest-minds-technologies/5-Flower-Dataset-4/sweeps/tk9zjxha' target=\"_blank\">https://wandb.ai/fangselection123-happiest-minds-technologies/5-Flower-Dataset-4/sweeps/tk9zjxha</a>"
      ],
      "text/plain": [
       "<IPython.core.display.HTML object>"
      ]
     },
     "metadata": {},
     "output_type": "display_data"
    },
    {
     "data": {
      "text/html": [
       " View project at <a href='https://wandb.ai/fangselection123-happiest-minds-technologies/5-Flower-Dataset-4' target=\"_blank\">https://wandb.ai/fangselection123-happiest-minds-technologies/5-Flower-Dataset-4</a>"
      ],
      "text/plain": [
       "<IPython.core.display.HTML object>"
      ]
     },
     "metadata": {},
     "output_type": "display_data"
    },
    {
     "data": {
      "text/html": [
       " View sweep at <a href='https://wandb.ai/fangselection123-happiest-minds-technologies/5-Flower-Dataset-4/sweeps/tk9zjxha' target=\"_blank\">https://wandb.ai/fangselection123-happiest-minds-technologies/5-Flower-Dataset-4/sweeps/tk9zjxha</a>"
      ],
      "text/plain": [
       "<IPython.core.display.HTML object>"
      ]
     },
     "metadata": {},
     "output_type": "display_data"
    },
    {
     "data": {
      "text/html": [
       " View run at <a href='https://wandb.ai/fangselection123-happiest-minds-technologies/5-Flower-Dataset-4/runs/pd6biagw' target=\"_blank\">https://wandb.ai/fangselection123-happiest-minds-technologies/5-Flower-Dataset-4/runs/pd6biagw</a>"
      ],
      "text/plain": [
       "<IPython.core.display.HTML object>"
      ]
     },
     "metadata": {},
     "output_type": "display_data"
    },
    {
     "name": "stderr",
     "output_type": "stream",
     "text": [
      "Traceback (most recent call last):\n",
      "  File \"/tmp/ipykernel_91050/3860654642.py\", line 64, in train\n",
      "    outputs = model(images)\n",
      "  File \"/home/ajit.kumar4@happiestminds.com/Documents/Drackula/ComputerVisionFromScratch/venv/lib/python3.10/site-packages/torch/nn/modules/module.py\", line 1751, in _wrapped_call_impl\n",
      "    return self._call_impl(*args, **kwargs)\n",
      "  File \"/home/ajit.kumar4@happiestminds.com/Documents/Drackula/ComputerVisionFromScratch/venv/lib/python3.10/site-packages/torch/nn/modules/module.py\", line 1762, in _call_impl\n",
      "    return forward_call(*args, **kwargs)\n",
      "  File \"/tmp/ipykernel_91050/1075812509.py\", line 42, in forward\n",
      "    x= self.fc1(x)\n",
      "  File \"/home/ajit.kumar4@happiestminds.com/Documents/Drackula/ComputerVisionFromScratch/venv/lib/python3.10/site-packages/torch/nn/modules/module.py\", line 1751, in _wrapped_call_impl\n",
      "    return self._call_impl(*args, **kwargs)\n",
      "  File \"/home/ajit.kumar4@happiestminds.com/Documents/Drackula/ComputerVisionFromScratch/venv/lib/python3.10/site-packages/torch/nn/modules/module.py\", line 1762, in _call_impl\n",
      "    return forward_call(*args, **kwargs)\n",
      "  File \"/home/ajit.kumar4@happiestminds.com/Documents/Drackula/ComputerVisionFromScratch/venv/lib/python3.10/site-packages/torch/nn/modules/linear.py\", line 125, in forward\n",
      "    return F.linear(input, self.weight, self.bias)\n",
      "RuntimeError: mat1 and mat2 shapes cannot be multiplied (8x6400 and 9216x4096)\n"
     ]
    },
    {
     "data": {
      "text/html": [],
      "text/plain": [
       "<IPython.core.display.HTML object>"
      ]
     },
     "metadata": {},
     "output_type": "display_data"
    },
    {
     "data": {
      "text/html": [
       " View run <strong style=\"color:#cdcd00\">northern-sweep-6</strong> at: <a href='https://wandb.ai/fangselection123-happiest-minds-technologies/5-Flower-Dataset-4/runs/pd6biagw' target=\"_blank\">https://wandb.ai/fangselection123-happiest-minds-technologies/5-Flower-Dataset-4/runs/pd6biagw</a><br> View project at: <a href='https://wandb.ai/fangselection123-happiest-minds-technologies/5-Flower-Dataset-4' target=\"_blank\">https://wandb.ai/fangselection123-happiest-minds-technologies/5-Flower-Dataset-4</a><br>Synced 5 W&B file(s), 0 media file(s), 0 artifact file(s) and 0 other file(s)"
      ],
      "text/plain": [
       "<IPython.core.display.HTML object>"
      ]
     },
     "metadata": {},
     "output_type": "display_data"
    },
    {
     "data": {
      "text/html": [
       "Find logs at: <code>./wandb/run-20250616_005458-pd6biagw/logs</code>"
      ],
      "text/plain": [
       "<IPython.core.display.HTML object>"
      ]
     },
     "metadata": {},
     "output_type": "display_data"
    },
    {
     "name": "stderr",
     "output_type": "stream",
     "text": [
      "\u001b[34m\u001b[1mwandb\u001b[0m: \u001b[32m\u001b[41mERROR\u001b[0m Run pd6biagw errored:\n",
      "\u001b[34m\u001b[1mwandb\u001b[0m: \u001b[32m\u001b[41mERROR\u001b[0m Traceback (most recent call last):\n",
      "\u001b[34m\u001b[1mwandb\u001b[0m: \u001b[32m\u001b[41mERROR\u001b[0m   File \"/home/ajit.kumar4@happiestminds.com/Documents/Drackula/ComputerVisionFromScratch/venv/lib/python3.10/site-packages/wandb/agents/pyagent.py\", line 302, in _run_job\n",
      "\u001b[34m\u001b[1mwandb\u001b[0m: \u001b[32m\u001b[41mERROR\u001b[0m     self._function()\n",
      "\u001b[34m\u001b[1mwandb\u001b[0m: \u001b[32m\u001b[41mERROR\u001b[0m   File \"/tmp/ipykernel_91050/3860654642.py\", line 64, in train\n",
      "\u001b[34m\u001b[1mwandb\u001b[0m: \u001b[32m\u001b[41mERROR\u001b[0m     outputs = model(images)\n",
      "\u001b[34m\u001b[1mwandb\u001b[0m: \u001b[32m\u001b[41mERROR\u001b[0m   File \"/home/ajit.kumar4@happiestminds.com/Documents/Drackula/ComputerVisionFromScratch/venv/lib/python3.10/site-packages/torch/nn/modules/module.py\", line 1751, in _wrapped_call_impl\n",
      "\u001b[34m\u001b[1mwandb\u001b[0m: \u001b[32m\u001b[41mERROR\u001b[0m     return self._call_impl(*args, **kwargs)\n",
      "\u001b[34m\u001b[1mwandb\u001b[0m: \u001b[32m\u001b[41mERROR\u001b[0m   File \"/home/ajit.kumar4@happiestminds.com/Documents/Drackula/ComputerVisionFromScratch/venv/lib/python3.10/site-packages/torch/nn/modules/module.py\", line 1762, in _call_impl\n",
      "\u001b[34m\u001b[1mwandb\u001b[0m: \u001b[32m\u001b[41mERROR\u001b[0m     return forward_call(*args, **kwargs)\n",
      "\u001b[34m\u001b[1mwandb\u001b[0m: \u001b[32m\u001b[41mERROR\u001b[0m   File \"/tmp/ipykernel_91050/1075812509.py\", line 42, in forward\n",
      "\u001b[34m\u001b[1mwandb\u001b[0m: \u001b[32m\u001b[41mERROR\u001b[0m     x= self.fc1(x)\n",
      "\u001b[34m\u001b[1mwandb\u001b[0m: \u001b[32m\u001b[41mERROR\u001b[0m   File \"/home/ajit.kumar4@happiestminds.com/Documents/Drackula/ComputerVisionFromScratch/venv/lib/python3.10/site-packages/torch/nn/modules/module.py\", line 1751, in _wrapped_call_impl\n",
      "\u001b[34m\u001b[1mwandb\u001b[0m: \u001b[32m\u001b[41mERROR\u001b[0m     return self._call_impl(*args, **kwargs)\n",
      "\u001b[34m\u001b[1mwandb\u001b[0m: \u001b[32m\u001b[41mERROR\u001b[0m   File \"/home/ajit.kumar4@happiestminds.com/Documents/Drackula/ComputerVisionFromScratch/venv/lib/python3.10/site-packages/torch/nn/modules/module.py\", line 1762, in _call_impl\n",
      "\u001b[34m\u001b[1mwandb\u001b[0m: \u001b[32m\u001b[41mERROR\u001b[0m     return forward_call(*args, **kwargs)\n",
      "\u001b[34m\u001b[1mwandb\u001b[0m: \u001b[32m\u001b[41mERROR\u001b[0m   File \"/home/ajit.kumar4@happiestminds.com/Documents/Drackula/ComputerVisionFromScratch/venv/lib/python3.10/site-packages/torch/nn/modules/linear.py\", line 125, in forward\n",
      "\u001b[34m\u001b[1mwandb\u001b[0m: \u001b[32m\u001b[41mERROR\u001b[0m     return F.linear(input, self.weight, self.bias)\n",
      "\u001b[34m\u001b[1mwandb\u001b[0m: \u001b[32m\u001b[41mERROR\u001b[0m RuntimeError: mat1 and mat2 shapes cannot be multiplied (8x6400 and 9216x4096)\n",
      "\u001b[34m\u001b[1mwandb\u001b[0m: \u001b[32m\u001b[41mERROR\u001b[0m \n",
      "\u001b[34m\u001b[1mwandb\u001b[0m: \u001b[32m\u001b[41mERROR\u001b[0m Detected 3 failed runs in the first 60 seconds, killing sweep.\n",
      "\u001b[34m\u001b[1mwandb\u001b[0m: To disable this check set WANDB_AGENT_DISABLE_FLAPPING=true\n"
     ]
    }
   ],
   "source": [
    "wandb.agent(sweep_id, function=train)"
   ]
  },
  {
   "cell_type": "code",
   "execution_count": null,
   "id": "08ed95a9",
   "metadata": {},
   "outputs": [],
   "source": []
  },
  {
   "cell_type": "code",
   "execution_count": null,
   "id": "7f393049",
   "metadata": {},
   "outputs": [
    {
     "ename": "NameError",
     "evalue": "name 'train_loader' is not defined",
     "output_type": "error",
     "traceback": [
      "\u001b[0;31m---------------------------------------------------------------------------\u001b[0m",
      "\u001b[0;31mNameError\u001b[0m                                 Traceback (most recent call last)",
      "Cell \u001b[0;32mIn[12], line 11\u001b[0m\n\u001b[1;32m      8\u001b[0m train_correct \u001b[38;5;241m=\u001b[39m \u001b[38;5;241m0\u001b[39m\n\u001b[1;32m      9\u001b[0m train_total \u001b[38;5;241m=\u001b[39m \u001b[38;5;241m0\u001b[39m\n\u001b[0;32m---> 11\u001b[0m \u001b[38;5;28;01mfor\u001b[39;00m i, (images, labels) \u001b[38;5;129;01min\u001b[39;00m \u001b[38;5;28menumerate\u001b[39m(\u001b[43mtrain_loader\u001b[49m):\n\u001b[1;32m     12\u001b[0m     images \u001b[38;5;241m=\u001b[39m images\u001b[38;5;241m.\u001b[39mto(device)\n\u001b[1;32m     13\u001b[0m     labels \u001b[38;5;241m=\u001b[39m labels\u001b[38;5;241m.\u001b[39mto(device)\n",
      "\u001b[0;31mNameError\u001b[0m: name 'train_loader' is not defined"
     ]
    }
   ],
   "source": [
    "# -----------------------------\n",
    "# Training Loop\n",
    "# -----------------------------\n",
    "EPOCHS = 10\n",
    "for epoch in range(EPOCHS):\n",
    "    model.train()\n",
    "    train_loss = 0\n",
    "    train_correct = 0\n",
    "    train_total = 0\n",
    "\n",
    "    for i, (images, labels) in enumerate(train_loader):\n",
    "        images = images.to(device)\n",
    "        labels = labels.to(device)\n",
    "\n",
    "        outputs = model(images)\n",
    "        loss = criterion(outputs, labels)\n",
    "\n",
    "        optimizer.zero_grad()\n",
    "        loss.backward()\n",
    "        optimizer.step()\n",
    "\n",
    "        train_loss += loss.item()\n",
    "        _, preds = torch.max(outputs, 1)\n",
    "        train_correct += (preds == labels).sum().item()\n",
    "        train_total += labels.size(0)\n",
    "        # Print every 10 batches\n",
    "        if(i + 1) % 10 == 0:\n",
    "            batch_acc = train_correct / labels.size(0)\n",
    "            print(f\"[Batch {i+1}/{len(train_loader)}] Loss: {loss.item():.4f}, Batch Acc: {batch_acc:.4f}\")\n",
    "\n",
    "\n",
    "    train_accuracy = train_correct / train_total\n",
    "    wandb.log({\"epoch\": epoch + 1, \"train_loss\": train_loss, \"train_accuracy\": train_accuracy})\n",
    "    print(f\"Epoch {epoch+1} Summary - Loss: {train_loss:.4f}, Train Accuracy: {train_accuracy:.4f}\")\n",
    "\n",
    "# -----------------------------\n",
    "# # Evaluation (Optional)\n",
    "# # -----------------------------\n",
    "model.eval()\n",
    "test_correct = 0\n",
    "test_total = 0\n",
    "test_loss = 0\n",
    "with torch.no_grad():\n",
    "    for images, labels in test_loader:\n",
    "        images = images.to(device)\n",
    "        labels = labels.to(device)\n",
    "        outputs = model(images)\n",
    "        loss = criterion(outputs, labels)\n",
    "        test_loss += loss.item()\n",
    "        _, preds = torch.max(outputs, 1)\n",
    "        test_correct += (preds == labels).sum().item()\n",
    "        test_total += labels.size(0)\n",
    "\n",
    "print(f\"Test Accuracy: {test_correct / test_total:.4f}\")\n",
    "\n"
   ]
  },
  {
   "cell_type": "code",
   "execution_count": null,
   "id": "0d2a3a31",
   "metadata": {},
   "outputs": [],
   "source": []
  }
 ],
 "metadata": {
  "kernelspec": {
   "display_name": "venv",
   "language": "python",
   "name": "python3"
  },
  "language_info": {
   "codemirror_mode": {
    "name": "ipython",
    "version": 3
   },
   "file_extension": ".py",
   "mimetype": "text/x-python",
   "name": "python",
   "nbconvert_exporter": "python",
   "pygments_lexer": "ipython3",
   "version": "3.10.12"
  }
 },
 "nbformat": 4,
 "nbformat_minor": 5
}
