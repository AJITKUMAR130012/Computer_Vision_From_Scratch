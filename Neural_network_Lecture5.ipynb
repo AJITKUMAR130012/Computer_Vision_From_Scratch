{
  "cells": [
    {
      "cell_type": "code",
      "execution_count": null,
      "metadata": {
        "id": "7v7W5WAupiov"
      },
      "outputs": [],
      "source": [
        "import wandb\n",
        "from wandb.integration.keras import WandbMetricsLogger, WandbModelCheckpoint\n",
        "import tensorflow as tf\n",
        "import matplotlib.pyplot as plt\n",
        "from tensorflow import keras"
      ]
    },
    {
      "cell_type": "code",
      "execution_count": null,
      "metadata": {
        "colab": {
          "base_uri": "https://localhost:8080/",
          "height": 198
        },
        "id": "bNpEAv2CsU80",
        "outputId": "212d002c-3004-4220-dc8f-5fddcac9ff79"
      },
      "outputs": [
        {
          "data": {
            "application/javascript": [
              "\n",
              "        window._wandbApiKey = new Promise((resolve, reject) => {\n",
              "            function loadScript(url) {\n",
              "            return new Promise(function(resolve, reject) {\n",
              "                let newScript = document.createElement(\"script\");\n",
              "                newScript.onerror = reject;\n",
              "                newScript.onload = resolve;\n",
              "                document.body.appendChild(newScript);\n",
              "                newScript.src = url;\n",
              "            });\n",
              "            }\n",
              "            loadScript(\"https://cdn.jsdelivr.net/npm/postmate/build/postmate.min.js\").then(() => {\n",
              "            const iframe = document.createElement('iframe')\n",
              "            iframe.style.cssText = \"width:0;height:0;border:none\"\n",
              "            document.body.appendChild(iframe)\n",
              "            const handshake = new Postmate({\n",
              "                container: iframe,\n",
              "                url: 'https://wandb.ai/authorize'\n",
              "            });\n",
              "            const timeout = setTimeout(() => reject(\"Couldn't auto authenticate\"), 5000)\n",
              "            handshake.then(function(child) {\n",
              "                child.on('authorize', data => {\n",
              "                    clearTimeout(timeout)\n",
              "                    resolve(data)\n",
              "                });\n",
              "            });\n",
              "            })\n",
              "        });\n",
              "    "
            ],
            "text/plain": [
              "<IPython.core.display.Javascript object>"
            ]
          },
          "metadata": {},
          "output_type": "display_data"
        },
        {
          "name": "stderr",
          "output_type": "stream",
          "text": [
            "\u001b[34m\u001b[1mwandb\u001b[0m: Logging into wandb.ai. (Learn how to deploy a W&B server locally: https://wandb.me/wandb-server)\n",
            "\u001b[34m\u001b[1mwandb\u001b[0m: You can find your API key in your browser here: https://wandb.ai/authorize?ref=models\n",
            "wandb: Paste an API key from your profile and hit enter:"
          ]
        },
        {
          "name": "stdout",
          "output_type": "stream",
          "text": [
            " ··········\n"
          ]
        },
        {
          "name": "stderr",
          "output_type": "stream",
          "text": [
            "\u001b[34m\u001b[1mwandb\u001b[0m: \u001b[33mWARNING\u001b[0m If you're specifying your api key in code, ensure this code is not shared publicly.\n",
            "\u001b[34m\u001b[1mwandb\u001b[0m: \u001b[33mWARNING\u001b[0m Consider setting the WANDB_API_KEY environment variable, or running `wandb login` from the command line.\n",
            "\u001b[34m\u001b[1mwandb\u001b[0m: No netrc file found, creating one.\n",
            "\u001b[34m\u001b[1mwandb\u001b[0m: Appending key for api.wandb.ai to your netrc file: /root/.netrc\n"
          ]
        },
        {
          "name": "stdout",
          "output_type": "stream",
          "text": [
            "Create sweep with ID: 4c9k46ix\n",
            "Sweep URL: https://wandb.ai/fangselection123-happiest-minds-technologies/5-Flower-Dataset/sweeps/4c9k46ix\n"
          ]
        }
      ],
      "source": [
        "sweep_config = {\n",
        "    'method' : 'grid',\n",
        "    'metric': {\n",
        "        'name' : 'val_accuracy',\n",
        "        'goal' : 'maximize'\n",
        "    },\n",
        "    'parameters' : {\n",
        "        'batch_size' : { 'values' : [8, 16, 32, 64, 128]},\n",
        "        'learning_rate' : { 'values' : [0.001, 0.0001, 0.00001]},\n",
        "        'hidden_nodes': {'values' : [32, 64, 128, 256]},\n",
        "        'img_size' : {'values' : [16, 64, 224]},\n",
        "        'epochs' : {'values': [5, 10]}\n",
        "    }\n",
        "}\n",
        "sweep_id = wandb.sweep(sweep_config, project=\"5-Flower-Dataset\")"
      ]
    },
    {
      "cell_type": "markdown",
      "metadata": {
        "id": "kJZTumXp7VqA"
      },
      "source": [
        "#This below code gives the structure of the code that needs to be train by using weight and bias. Code contains the simple neural network with activation function"
      ]
    },
    {
      "cell_type": "code",
      "execution_count": null,
      "metadata": {
        "id": "LpvY5PGSp8lc"
      },
      "outputs": [],
      "source": [
        "def train():\n",
        "  with wandb.init() as run:\n",
        "    config= wandb.config\n",
        "    import tensorflow as tf\n",
        "    IMG_HEIGHT= config.img_size\n",
        "    IMG_WIDTH= config.img_size\n",
        "    IMG_CHANNELS=3\n",
        "    CLASS_NAMES = [\"daisy\", \"dandelion\", \"roses\", \"sunflowers\", \"tulips\"]\n",
        "    def read_and_decode(filename, resize_dims):\n",
        "      # 1. Read the raw file\n",
        "      img_bytes= tf.io.read_file(filename)\n",
        "      # 2. Decode image data\n",
        "      img= tf.image.decode_jpeg(img_bytes, channels=IMG_CHANNELS)\n",
        "      # 3. Convert image to float values in [0, 1]\n",
        "      img= tf.image.convert_image_dtype(img, tf.float32)\n",
        "      # 4. Resize the image to the match the desire dimention\n",
        "      img= tf.image.resize(img, resize_dims)\n",
        "      return img\n",
        "\n",
        "    def parse_csvline(csv_line):\n",
        "      # print(\"csv line:\", csv_line)\n",
        "      # record_defaults specify the data types for each columns\n",
        "      record_default = [\"\", \"\"]\n",
        "      filename, label_string =tf.io.decode_csv(csv_line, record_defaults=record_default)\n",
        "\n",
        "\n",
        "      #load the image\n",
        "      img= read_and_decode(filename, [IMG_HEIGHT, IMG_WIDTH])\n",
        "      # print(\"Label String:\",label_string)\n",
        "      label = tf.argmax(tf.math.equal(CLASS_NAMES, label_string))\n",
        "      return img, label\n",
        "\n",
        "    #Define dataset\n",
        "    train_dataset = (\n",
        "        tf.data.TextLineDataset(\"gs://cloud-ml-data/img/flower_photos/train_set.csv\")\n",
        "        #.map(parse_csvline) # it will process one by one line to the map function which is slow\n",
        "        #.map(parse_csvline, num_parallel_calls=4) # it will process one by four line to the map function which is faster\n",
        "\n",
        "        .map(parse_csvline, num_parallel_calls=tf.data.AUTOTUNE) # It will adjust the number of line to the function depends upon the cpu\n",
        "        .batch(config.batch_size)\n",
        "        .prefetch(tf.data.AUTOTUNE)\n",
        "    )\n",
        "    test_dataset = (\n",
        "        tf.data.TextLineDataset(\"gs://cloud-ml-data/img/flower_photos/eval_set.csv\")\n",
        "        .map(parse_csvline, num_parallel_calls=tf.data.AUTOTUNE)\n",
        "        .batch(config.batch_size)\n",
        "        .prefetch(tf.data.AUTOTUNE) # When the model is training the current batch then it will prepare the next batch in the background.\n",
        "    )\n",
        "    model = keras.Sequential([\n",
        "    keras.layers.Flatten(input_shape=(IMG_WIDTH, IMG_HEIGHT, IMG_CHANNELS)),\n",
        "    keras.layers.Dense(config.hidden_nodes, activation='relu'),\n",
        "    keras.layers.Dense(len(CLASS_NAMES), activation='softmax')\n",
        "    ])\n",
        "\n",
        "    model.compile(optimizer='adam', loss= keras.losses.SparseCategoricalCrossentropy(from_logits=False), metrics=['accuracy'])\n",
        "\n",
        "    model.fit(\n",
        "    train_dataset,\n",
        "    validation_data=test_dataset,\n",
        "    epochs=config.epochs,\n",
        "    callbacks=[WandbMetricsLogger()]\n",
        "    )\n"
      ]
    },
    {
      "cell_type": "code",
      "execution_count": null,
      "metadata": {
        "colab": {
          "background_save": true,
          "base_uri": "https://localhost:8080/",
          "height": 1000
        },
        "id": "4_vHRUOAuX9c",
        "outputId": "5d11cfc9-6161-4ed8-884b-42f6a1982431"
      },
      "outputs": [
        {
          "name": "stderr",
          "output_type": "stream",
          "text": [
            "\u001b[34m\u001b[1mwandb\u001b[0m: Agent Starting Run: ugni17k3 with config:\n",
            "\u001b[34m\u001b[1mwandb\u001b[0m: \tbatch_size: 8\n",
            "\u001b[34m\u001b[1mwandb\u001b[0m: \tepochs: 5\n",
            "\u001b[34m\u001b[1mwandb\u001b[0m: \thidden_nodes: 32\n",
            "\u001b[34m\u001b[1mwandb\u001b[0m: \timg_size: 64\n",
            "\u001b[34m\u001b[1mwandb\u001b[0m: \tlearning_rate: 0.001\n"
          ]
        },
        {
          "data": {
            "text/html": [
              "Tracking run with wandb version 0.19.11"
            ],
            "text/plain": [
              "<IPython.core.display.HTML object>"
            ]
          },
          "metadata": {},
          "output_type": "display_data"
        },
        {
          "data": {
            "text/html": [
              "Run data is saved locally in <code>/content/wandb/run-20250614_043745-ugni17k3</code>"
            ],
            "text/plain": [
              "<IPython.core.display.HTML object>"
            ]
          },
          "metadata": {},
          "output_type": "display_data"
        },
        {
          "data": {
            "text/html": [
              "Syncing run <strong><a href='https://wandb.ai/fangselection123-happiest-minds-technologies/5-Flower-Dataset/runs/ugni17k3' target=\"_blank\">brisk-sweep-4</a></strong> to <a href='https://wandb.ai/fangselection123-happiest-minds-technologies/5-Flower-Dataset' target=\"_blank\">Weights & Biases</a> (<a href='https://wandb.me/developer-guide' target=\"_blank\">docs</a>)<br>Sweep page: <a href='https://wandb.ai/fangselection123-happiest-minds-technologies/5-Flower-Dataset/sweeps/4c9k46ix' target=\"_blank\">https://wandb.ai/fangselection123-happiest-minds-technologies/5-Flower-Dataset/sweeps/4c9k46ix</a>"
            ],
            "text/plain": [
              "<IPython.core.display.HTML object>"
            ]
          },
          "metadata": {},
          "output_type": "display_data"
        },
        {
          "data": {
            "text/html": [
              " View project at <a href='https://wandb.ai/fangselection123-happiest-minds-technologies/5-Flower-Dataset' target=\"_blank\">https://wandb.ai/fangselection123-happiest-minds-technologies/5-Flower-Dataset</a>"
            ],
            "text/plain": [
              "<IPython.core.display.HTML object>"
            ]
          },
          "metadata": {},
          "output_type": "display_data"
        },
        {
          "data": {
            "text/html": [
              " View sweep at <a href='https://wandb.ai/fangselection123-happiest-minds-technologies/5-Flower-Dataset/sweeps/4c9k46ix' target=\"_blank\">https://wandb.ai/fangselection123-happiest-minds-technologies/5-Flower-Dataset/sweeps/4c9k46ix</a>"
            ],
            "text/plain": [
              "<IPython.core.display.HTML object>"
            ]
          },
          "metadata": {},
          "output_type": "display_data"
        },
        {
          "data": {
            "text/html": [
              " View run at <a href='https://wandb.ai/fangselection123-happiest-minds-technologies/5-Flower-Dataset/runs/ugni17k3' target=\"_blank\">https://wandb.ai/fangselection123-happiest-minds-technologies/5-Flower-Dataset/runs/ugni17k3</a>"
            ],
            "text/plain": [
              "<IPython.core.display.HTML object>"
            ]
          },
          "metadata": {},
          "output_type": "display_data"
        },
        {
          "name": "stdout",
          "output_type": "stream",
          "text": [
            "Epoch 1/5\n",
            "    413/Unknown \u001b[1m160s\u001b[0m 384ms/step - accuracy: 0.2203 - loss: 1.8444"
          ]
        },
        {
          "name": "stderr",
          "output_type": "stream",
          "text": [
            "/usr/local/lib/python3.11/dist-packages/keras/src/trainers/epoch_iterator.py:151: UserWarning: Your input ran out of data; interrupting training. Make sure that your dataset or generator can generate at least `steps_per_epoch * epochs` batches. You may need to use the `.repeat()` function when building your dataset.\n",
            "  self._interrupted_warning()\n"
          ]
        },
        {
          "name": "stdout",
          "output_type": "stream",
          "text": [
            "\u001b[1m413/413\u001b[0m \u001b[32m━━━━━━━━━━━━━━━━━━━━\u001b[0m\u001b[37m\u001b[0m \u001b[1m178s\u001b[0m 426ms/step - accuracy: 0.2203 - loss: 1.8440 - val_accuracy: 0.2351 - val_loss: 1.6076\n",
            "Epoch 2/5\n",
            "\u001b[1m413/413\u001b[0m \u001b[32m━━━━━━━━━━━━━━━━━━━━\u001b[0m\u001b[37m\u001b[0m \u001b[1m141s\u001b[0m 341ms/step - accuracy: 0.2397 - loss: 1.6032 - val_accuracy: 0.2351 - val_loss: 1.6080\n",
            "Epoch 3/5\n",
            "\u001b[1m413/413\u001b[0m \u001b[32m━━━━━━━━━━━━━━━━━━━━\u001b[0m\u001b[37m\u001b[0m \u001b[1m141s\u001b[0m 339ms/step - accuracy: 0.2397 - loss: 1.6018 - val_accuracy: 0.2351 - val_loss: 1.6088\n",
            "Epoch 4/5\n",
            "\u001b[1m413/413\u001b[0m \u001b[32m━━━━━━━━━━━━━━━━━━━━\u001b[0m\u001b[37m\u001b[0m \u001b[1m139s\u001b[0m 333ms/step - accuracy: 0.2397 - loss: 1.6015 - val_accuracy: 0.2351 - val_loss: 1.6095\n",
            "Epoch 5/5\n",
            "\u001b[1m413/413\u001b[0m \u001b[32m━━━━━━━━━━━━━━━━━━━━\u001b[0m\u001b[37m\u001b[0m \u001b[1m141s\u001b[0m 331ms/step - accuracy: 0.2397 - loss: 1.6015 - val_accuracy: 0.2351 - val_loss: 1.6099\n"
          ]
        },
        {
          "data": {
            "text/html": [],
            "text/plain": [
              "<IPython.core.display.HTML object>"
            ]
          },
          "metadata": {},
          "output_type": "display_data"
        },
        {
          "data": {
            "text/html": [
              "<br>    <style><br>        .wandb-row {<br>            display: flex;<br>            flex-direction: row;<br>            flex-wrap: wrap;<br>            justify-content: flex-start;<br>            width: 100%;<br>        }<br>        .wandb-col {<br>            display: flex;<br>            flex-direction: column;<br>            flex-basis: 100%;<br>            flex: 1;<br>            padding: 10px;<br>        }<br>    </style><br><div class=\"wandb-row\"><div class=\"wandb-col\"><h3>Run history:</h3><br/><table class=\"wandb\"><tr><td>epoch/accuracy</td><td>▁████</td></tr><tr><td>epoch/epoch</td><td>▁▃▅▆█</td></tr><tr><td>epoch/learning_rate</td><td>▁▁▁▁▁</td></tr><tr><td>epoch/loss</td><td>█▁▁▁▁</td></tr><tr><td>epoch/val_accuracy</td><td>▁▁▁▁▁</td></tr><tr><td>epoch/val_loss</td><td>▁▂▅▇█</td></tr></table><br/></div><div class=\"wandb-col\"><h3>Run summary:</h3><br/><table class=\"wandb\"><tr><td>epoch/accuracy</td><td>0.24576</td></tr><tr><td>epoch/epoch</td><td>4</td></tr><tr><td>epoch/learning_rate</td><td>0.001</td></tr><tr><td>epoch/loss</td><td>1.59942</td></tr><tr><td>epoch/val_accuracy</td><td>0.23514</td></tr><tr><td>epoch/val_loss</td><td>1.60994</td></tr></table><br/></div></div>"
            ],
            "text/plain": [
              "<IPython.core.display.HTML object>"
            ]
          },
          "metadata": {},
          "output_type": "display_data"
        },
        {
          "data": {
            "text/html": [
              " View run <strong style=\"color:#cdcd00\">brisk-sweep-4</strong> at: <a href='https://wandb.ai/fangselection123-happiest-minds-technologies/5-Flower-Dataset/runs/ugni17k3' target=\"_blank\">https://wandb.ai/fangselection123-happiest-minds-technologies/5-Flower-Dataset/runs/ugni17k3</a><br> View project at: <a href='https://wandb.ai/fangselection123-happiest-minds-technologies/5-Flower-Dataset' target=\"_blank\">https://wandb.ai/fangselection123-happiest-minds-technologies/5-Flower-Dataset</a><br>Synced 5 W&B file(s), 0 media file(s), 0 artifact file(s) and 0 other file(s)"
            ],
            "text/plain": [
              "<IPython.core.display.HTML object>"
            ]
          },
          "metadata": {},
          "output_type": "display_data"
        },
        {
          "data": {
            "text/html": [
              "Find logs at: <code>./wandb/run-20250614_043745-ugni17k3/logs</code>"
            ],
            "text/plain": [
              "<IPython.core.display.HTML object>"
            ]
          },
          "metadata": {},
          "output_type": "display_data"
        },
        {
          "name": "stderr",
          "output_type": "stream",
          "text": [
            "\u001b[34m\u001b[1mwandb\u001b[0m: Agent Starting Run: ay5rubni with config:\n",
            "\u001b[34m\u001b[1mwandb\u001b[0m: \tbatch_size: 8\n",
            "\u001b[34m\u001b[1mwandb\u001b[0m: \tepochs: 5\n",
            "\u001b[34m\u001b[1mwandb\u001b[0m: \thidden_nodes: 32\n",
            "\u001b[34m\u001b[1mwandb\u001b[0m: \timg_size: 64\n",
            "\u001b[34m\u001b[1mwandb\u001b[0m: \tlearning_rate: 0.0001\n"
          ]
        },
        {
          "data": {
            "text/html": [
              "Tracking run with wandb version 0.19.11"
            ],
            "text/plain": [
              "<IPython.core.display.HTML object>"
            ]
          },
          "metadata": {},
          "output_type": "display_data"
        },
        {
          "data": {
            "text/html": [
              "Run data is saved locally in <code>/content/wandb/run-20250614_045019-ay5rubni</code>"
            ],
            "text/plain": [
              "<IPython.core.display.HTML object>"
            ]
          },
          "metadata": {},
          "output_type": "display_data"
        },
        {
          "data": {
            "text/html": [
              "Syncing run <strong><a href='https://wandb.ai/fangselection123-happiest-minds-technologies/5-Flower-Dataset/runs/ay5rubni' target=\"_blank\">gallant-sweep-5</a></strong> to <a href='https://wandb.ai/fangselection123-happiest-minds-technologies/5-Flower-Dataset' target=\"_blank\">Weights & Biases</a> (<a href='https://wandb.me/developer-guide' target=\"_blank\">docs</a>)<br>Sweep page: <a href='https://wandb.ai/fangselection123-happiest-minds-technologies/5-Flower-Dataset/sweeps/4c9k46ix' target=\"_blank\">https://wandb.ai/fangselection123-happiest-minds-technologies/5-Flower-Dataset/sweeps/4c9k46ix</a>"
            ],
            "text/plain": [
              "<IPython.core.display.HTML object>"
            ]
          },
          "metadata": {},
          "output_type": "display_data"
        },
        {
          "data": {
            "text/html": [
              " View project at <a href='https://wandb.ai/fangselection123-happiest-minds-technologies/5-Flower-Dataset' target=\"_blank\">https://wandb.ai/fangselection123-happiest-minds-technologies/5-Flower-Dataset</a>"
            ],
            "text/plain": [
              "<IPython.core.display.HTML object>"
            ]
          },
          "metadata": {},
          "output_type": "display_data"
        },
        {
          "data": {
            "text/html": [
              " View sweep at <a href='https://wandb.ai/fangselection123-happiest-minds-technologies/5-Flower-Dataset/sweeps/4c9k46ix' target=\"_blank\">https://wandb.ai/fangselection123-happiest-minds-technologies/5-Flower-Dataset/sweeps/4c9k46ix</a>"
            ],
            "text/plain": [
              "<IPython.core.display.HTML object>"
            ]
          },
          "metadata": {},
          "output_type": "display_data"
        },
        {
          "data": {
            "text/html": [
              " View run at <a href='https://wandb.ai/fangselection123-happiest-minds-technologies/5-Flower-Dataset/runs/ay5rubni' target=\"_blank\">https://wandb.ai/fangselection123-happiest-minds-technologies/5-Flower-Dataset/runs/ay5rubni</a>"
            ],
            "text/plain": [
              "<IPython.core.display.HTML object>"
            ]
          },
          "metadata": {},
          "output_type": "display_data"
        },
        {
          "name": "stdout",
          "output_type": "stream",
          "text": [
            "Epoch 1/5\n",
            "\u001b[1m413/413\u001b[0m \u001b[32m━━━━━━━━━━━━━━━━━━━━\u001b[0m\u001b[37m\u001b[0m \u001b[1m109s\u001b[0m 261ms/step - accuracy: 0.2424 - loss: 1.7585 - val_accuracy: 0.2351 - val_loss: 1.6086\n",
            "Epoch 2/5\n",
            "\u001b[1m413/413\u001b[0m \u001b[32m━━━━━━━━━━━━━━━━━━━━\u001b[0m\u001b[37m\u001b[0m \u001b[1m141s\u001b[0m 258ms/step - accuracy: 0.2397 - loss: 1.6028 - val_accuracy: 0.2351 - val_loss: 1.6087\n",
            "Epoch 3/5\n",
            "\u001b[1m413/413\u001b[0m \u001b[32m━━━━━━━━━━━━━━━━━━━━\u001b[0m\u001b[37m\u001b[0m \u001b[1m141s\u001b[0m 257ms/step - accuracy: 0.2397 - loss: 1.6017 - val_accuracy: 0.2351 - val_loss: 1.6092\n",
            "Epoch 4/5\n",
            "\u001b[1m413/413\u001b[0m \u001b[32m━━━━━━━━━━━━━━━━━━━━\u001b[0m\u001b[37m\u001b[0m \u001b[1m202s\u001b[0m 402ms/step - accuracy: 0.2397 - loss: 1.6015 - val_accuracy: 0.2351 - val_loss: 1.6098\n",
            "Epoch 5/5\n",
            "\u001b[1m413/413\u001b[0m \u001b[32m━━━━━━━━━━━━━━━━━━━━\u001b[0m\u001b[37m\u001b[0m \u001b[1m203s\u001b[0m 404ms/step - accuracy: 0.2397 - loss: 1.6015 - val_accuracy: 0.2351 - val_loss: 1.6101\n"
          ]
        },
        {
          "data": {
            "text/html": [],
            "text/plain": [
              "<IPython.core.display.HTML object>"
            ]
          },
          "metadata": {},
          "output_type": "display_data"
        },
        {
          "data": {
            "text/html": [
              "<br>    <style><br>        .wandb-row {<br>            display: flex;<br>            flex-direction: row;<br>            flex-wrap: wrap;<br>            justify-content: flex-start;<br>            width: 100%;<br>        }<br>        .wandb-col {<br>            display: flex;<br>            flex-direction: column;<br>            flex-basis: 100%;<br>            flex: 1;<br>            padding: 10px;<br>        }<br>    </style><br><div class=\"wandb-row\"><div class=\"wandb-col\"><h3>Run history:</h3><br/><table class=\"wandb\"><tr><td>epoch/accuracy</td><td>█▁▁▁▁</td></tr><tr><td>epoch/epoch</td><td>▁▃▅▆█</td></tr><tr><td>epoch/learning_rate</td><td>▁▁▁▁▁</td></tr><tr><td>epoch/loss</td><td>█▁▁▁▁</td></tr><tr><td>epoch/val_accuracy</td><td>▁▁▁▁▁</td></tr><tr><td>epoch/val_loss</td><td>▁▁▄▆█</td></tr></table><br/></div><div class=\"wandb-col\"><h3>Run summary:</h3><br/><table class=\"wandb\"><tr><td>epoch/accuracy</td><td>0.24576</td></tr><tr><td>epoch/epoch</td><td>4</td></tr><tr><td>epoch/learning_rate</td><td>0.001</td></tr><tr><td>epoch/loss</td><td>1.59941</td></tr><tr><td>epoch/val_accuracy</td><td>0.23514</td></tr><tr><td>epoch/val_loss</td><td>1.61009</td></tr></table><br/></div></div>"
            ],
            "text/plain": [
              "<IPython.core.display.HTML object>"
            ]
          },
          "metadata": {},
          "output_type": "display_data"
        },
        {
          "data": {
            "text/html": [
              " View run <strong style=\"color:#cdcd00\">gallant-sweep-5</strong> at: <a href='https://wandb.ai/fangselection123-happiest-minds-technologies/5-Flower-Dataset/runs/ay5rubni' target=\"_blank\">https://wandb.ai/fangselection123-happiest-minds-technologies/5-Flower-Dataset/runs/ay5rubni</a><br> View project at: <a href='https://wandb.ai/fangselection123-happiest-minds-technologies/5-Flower-Dataset' target=\"_blank\">https://wandb.ai/fangselection123-happiest-minds-technologies/5-Flower-Dataset</a><br>Synced 5 W&B file(s), 0 media file(s), 0 artifact file(s) and 0 other file(s)"
            ],
            "text/plain": [
              "<IPython.core.display.HTML object>"
            ]
          },
          "metadata": {},
          "output_type": "display_data"
        },
        {
          "data": {
            "text/html": [
              "Find logs at: <code>./wandb/run-20250614_045019-ay5rubni/logs</code>"
            ],
            "text/plain": [
              "<IPython.core.display.HTML object>"
            ]
          },
          "metadata": {},
          "output_type": "display_data"
        },
        {
          "name": "stderr",
          "output_type": "stream",
          "text": [
            "\u001b[34m\u001b[1mwandb\u001b[0m: Agent Starting Run: 62vgw2qy with config:\n",
            "\u001b[34m\u001b[1mwandb\u001b[0m: \tbatch_size: 8\n",
            "\u001b[34m\u001b[1mwandb\u001b[0m: \tepochs: 5\n",
            "\u001b[34m\u001b[1mwandb\u001b[0m: \thidden_nodes: 32\n",
            "\u001b[34m\u001b[1mwandb\u001b[0m: \timg_size: 64\n",
            "\u001b[34m\u001b[1mwandb\u001b[0m: \tlearning_rate: 1e-05\n"
          ]
        },
        {
          "data": {
            "text/html": [
              "Tracking run with wandb version 0.19.11"
            ],
            "text/plain": [
              "<IPython.core.display.HTML object>"
            ]
          },
          "metadata": {},
          "output_type": "display_data"
        },
        {
          "data": {
            "text/html": [
              "Run data is saved locally in <code>/content/wandb/run-20250614_050423-62vgw2qy</code>"
            ],
            "text/plain": [
              "<IPython.core.display.HTML object>"
            ]
          },
          "metadata": {},
          "output_type": "display_data"
        },
        {
          "data": {
            "text/html": [
              "Syncing run <strong><a href='https://wandb.ai/fangselection123-happiest-minds-technologies/5-Flower-Dataset/runs/62vgw2qy' target=\"_blank\">graceful-sweep-6</a></strong> to <a href='https://wandb.ai/fangselection123-happiest-minds-technologies/5-Flower-Dataset' target=\"_blank\">Weights & Biases</a> (<a href='https://wandb.me/developer-guide' target=\"_blank\">docs</a>)<br>Sweep page: <a href='https://wandb.ai/fangselection123-happiest-minds-technologies/5-Flower-Dataset/sweeps/4c9k46ix' target=\"_blank\">https://wandb.ai/fangselection123-happiest-minds-technologies/5-Flower-Dataset/sweeps/4c9k46ix</a>"
            ],
            "text/plain": [
              "<IPython.core.display.HTML object>"
            ]
          },
          "metadata": {},
          "output_type": "display_data"
        },
        {
          "data": {
            "text/html": [
              " View project at <a href='https://wandb.ai/fangselection123-happiest-minds-technologies/5-Flower-Dataset' target=\"_blank\">https://wandb.ai/fangselection123-happiest-minds-technologies/5-Flower-Dataset</a>"
            ],
            "text/plain": [
              "<IPython.core.display.HTML object>"
            ]
          },
          "metadata": {},
          "output_type": "display_data"
        },
        {
          "data": {
            "text/html": [
              " View sweep at <a href='https://wandb.ai/fangselection123-happiest-minds-technologies/5-Flower-Dataset/sweeps/4c9k46ix' target=\"_blank\">https://wandb.ai/fangselection123-happiest-minds-technologies/5-Flower-Dataset/sweeps/4c9k46ix</a>"
            ],
            "text/plain": [
              "<IPython.core.display.HTML object>"
            ]
          },
          "metadata": {},
          "output_type": "display_data"
        },
        {
          "data": {
            "text/html": [
              " View run at <a href='https://wandb.ai/fangselection123-happiest-minds-technologies/5-Flower-Dataset/runs/62vgw2qy' target=\"_blank\">https://wandb.ai/fangselection123-happiest-minds-technologies/5-Flower-Dataset/runs/62vgw2qy</a>"
            ],
            "text/plain": [
              "<IPython.core.display.HTML object>"
            ]
          },
          "metadata": {},
          "output_type": "display_data"
        },
        {
          "name": "stdout",
          "output_type": "stream",
          "text": [
            "Epoch 1/5\n",
            "\u001b[1m413/413\u001b[0m \u001b[32m━━━━━━━━━━━━━━━━━━━━\u001b[0m\u001b[37m\u001b[0m \u001b[1m129s\u001b[0m 309ms/step - accuracy: 0.2347 - loss: 1.7329 - val_accuracy: 0.2432 - val_loss: 1.5389\n",
            "Epoch 2/5\n",
            "\u001b[1m413/413\u001b[0m \u001b[32m━━━━━━━━━━━━━━━━━━━━\u001b[0m\u001b[37m\u001b[0m \u001b[1m141s\u001b[0m 308ms/step - accuracy: 0.3013 - loss: 1.5245 - val_accuracy: 0.2730 - val_loss: 1.5097\n",
            "Epoch 3/5\n",
            "\u001b[1m413/413\u001b[0m \u001b[32m━━━━━━━━━━━━━━━━━━━━\u001b[0m\u001b[37m\u001b[0m \u001b[1m135s\u001b[0m 292ms/step - accuracy: 0.3201 - loss: 1.4968 - val_accuracy: 0.2703 - val_loss: 1.5011\n",
            "Epoch 4/5\n",
            "\u001b[1m413/413\u001b[0m \u001b[32m━━━━━━━━━━━━━━━━━━━━\u001b[0m\u001b[37m\u001b[0m \u001b[1m113s\u001b[0m 274ms/step - accuracy: 0.3313 - loss: 1.4804 - val_accuracy: 0.2649 - val_loss: 1.5034\n",
            "Epoch 5/5\n",
            "\u001b[1m413/413\u001b[0m \u001b[32m━━━━━━━━━━━━━━━━━━━━\u001b[0m\u001b[37m\u001b[0m \u001b[1m142s\u001b[0m 274ms/step - accuracy: 0.3366 - loss: 1.4636 - val_accuracy: 0.2649 - val_loss: 1.4882\n"
          ]
        },
        {
          "data": {
            "text/html": [],
            "text/plain": [
              "<IPython.core.display.HTML object>"
            ]
          },
          "metadata": {},
          "output_type": "display_data"
        },
        {
          "data": {
            "text/html": [
              "<br>    <style><br>        .wandb-row {<br>            display: flex;<br>            flex-direction: row;<br>            flex-wrap: wrap;<br>            justify-content: flex-start;<br>            width: 100%;<br>        }<br>        .wandb-col {<br>            display: flex;<br>            flex-direction: column;<br>            flex-basis: 100%;<br>            flex: 1;<br>            padding: 10px;<br>        }<br>    </style><br><div class=\"wandb-row\"><div class=\"wandb-col\"><h3>Run history:</h3><br/><table class=\"wandb\"><tr><td>epoch/accuracy</td><td>▁▅▇▇█</td></tr><tr><td>epoch/epoch</td><td>▁▃▅▆█</td></tr><tr><td>epoch/learning_rate</td><td>▁▁▁▁▁</td></tr><tr><td>epoch/loss</td><td>█▄▃▂▁</td></tr><tr><td>epoch/val_accuracy</td><td>▁█▇▆▆</td></tr><tr><td>epoch/val_loss</td><td>█▄▃▃▁</td></tr></table><br/></div><div class=\"wandb-col\"><h3>Run summary:</h3><br/><table class=\"wandb\"><tr><td>epoch/accuracy</td><td>0.3303</td></tr><tr><td>epoch/epoch</td><td>4</td></tr><tr><td>epoch/learning_rate</td><td>0.001</td></tr><tr><td>epoch/loss</td><td>1.47093</td></tr><tr><td>epoch/val_accuracy</td><td>0.26486</td></tr><tr><td>epoch/val_loss</td><td>1.48824</td></tr></table><br/></div></div>"
            ],
            "text/plain": [
              "<IPython.core.display.HTML object>"
            ]
          },
          "metadata": {},
          "output_type": "display_data"
        },
        {
          "data": {
            "text/html": [
              " View run <strong style=\"color:#cdcd00\">graceful-sweep-6</strong> at: <a href='https://wandb.ai/fangselection123-happiest-minds-technologies/5-Flower-Dataset/runs/62vgw2qy' target=\"_blank\">https://wandb.ai/fangselection123-happiest-minds-technologies/5-Flower-Dataset/runs/62vgw2qy</a><br> View project at: <a href='https://wandb.ai/fangselection123-happiest-minds-technologies/5-Flower-Dataset' target=\"_blank\">https://wandb.ai/fangselection123-happiest-minds-technologies/5-Flower-Dataset</a><br>Synced 5 W&B file(s), 0 media file(s), 0 artifact file(s) and 0 other file(s)"
            ],
            "text/plain": [
              "<IPython.core.display.HTML object>"
            ]
          },
          "metadata": {},
          "output_type": "display_data"
        },
        {
          "data": {
            "text/html": [
              "Find logs at: <code>./wandb/run-20250614_050423-62vgw2qy/logs</code>"
            ],
            "text/plain": [
              "<IPython.core.display.HTML object>"
            ]
          },
          "metadata": {},
          "output_type": "display_data"
        },
        {
          "name": "stderr",
          "output_type": "stream",
          "text": [
            "\u001b[34m\u001b[1mwandb\u001b[0m: Agent Starting Run: drmcprnb with config:\n",
            "\u001b[34m\u001b[1mwandb\u001b[0m: \tbatch_size: 8\n",
            "\u001b[34m\u001b[1mwandb\u001b[0m: \tepochs: 5\n",
            "\u001b[34m\u001b[1mwandb\u001b[0m: \thidden_nodes: 32\n",
            "\u001b[34m\u001b[1mwandb\u001b[0m: \timg_size: 224\n",
            "\u001b[34m\u001b[1mwandb\u001b[0m: \tlearning_rate: 0.001\n"
          ]
        },
        {
          "data": {
            "text/html": [
              "Tracking run with wandb version 0.19.11"
            ],
            "text/plain": [
              "<IPython.core.display.HTML object>"
            ]
          },
          "metadata": {},
          "output_type": "display_data"
        },
        {
          "data": {
            "text/html": [
              "Run data is saved locally in <code>/content/wandb/run-20250614_051607-drmcprnb</code>"
            ],
            "text/plain": [
              "<IPython.core.display.HTML object>"
            ]
          },
          "metadata": {},
          "output_type": "display_data"
        },
        {
          "data": {
            "text/html": [
              "Syncing run <strong><a href='https://wandb.ai/fangselection123-happiest-minds-technologies/5-Flower-Dataset/runs/drmcprnb' target=\"_blank\">hopeful-sweep-7</a></strong> to <a href='https://wandb.ai/fangselection123-happiest-minds-technologies/5-Flower-Dataset' target=\"_blank\">Weights & Biases</a> (<a href='https://wandb.me/developer-guide' target=\"_blank\">docs</a>)<br>Sweep page: <a href='https://wandb.ai/fangselection123-happiest-minds-technologies/5-Flower-Dataset/sweeps/4c9k46ix' target=\"_blank\">https://wandb.ai/fangselection123-happiest-minds-technologies/5-Flower-Dataset/sweeps/4c9k46ix</a>"
            ],
            "text/plain": [
              "<IPython.core.display.HTML object>"
            ]
          },
          "metadata": {},
          "output_type": "display_data"
        },
        {
          "data": {
            "text/html": [
              " View project at <a href='https://wandb.ai/fangselection123-happiest-minds-technologies/5-Flower-Dataset' target=\"_blank\">https://wandb.ai/fangselection123-happiest-minds-technologies/5-Flower-Dataset</a>"
            ],
            "text/plain": [
              "<IPython.core.display.HTML object>"
            ]
          },
          "metadata": {},
          "output_type": "display_data"
        },
        {
          "data": {
            "text/html": [
              " View sweep at <a href='https://wandb.ai/fangselection123-happiest-minds-technologies/5-Flower-Dataset/sweeps/4c9k46ix' target=\"_blank\">https://wandb.ai/fangselection123-happiest-minds-technologies/5-Flower-Dataset/sweeps/4c9k46ix</a>"
            ],
            "text/plain": [
              "<IPython.core.display.HTML object>"
            ]
          },
          "metadata": {},
          "output_type": "display_data"
        },
        {
          "data": {
            "text/html": [
              " View run at <a href='https://wandb.ai/fangselection123-happiest-minds-technologies/5-Flower-Dataset/runs/drmcprnb' target=\"_blank\">https://wandb.ai/fangselection123-happiest-minds-technologies/5-Flower-Dataset/runs/drmcprnb</a>"
            ],
            "text/plain": [
              "<IPython.core.display.HTML object>"
            ]
          },
          "metadata": {},
          "output_type": "display_data"
        },
        {
          "name": "stdout",
          "output_type": "stream",
          "text": [
            "Epoch 1/5\n",
            "\u001b[1m413/413\u001b[0m \u001b[32m━━━━━━━━━━━━━━━━━━━━\u001b[0m\u001b[37m\u001b[0m \u001b[1m127s\u001b[0m 305ms/step - accuracy: 0.2388 - loss: 6.6653 - val_accuracy: 0.2351 - val_loss: 1.6077\n",
            "Epoch 2/5\n",
            "\u001b[1m413/413\u001b[0m \u001b[32m━━━━━━━━━━━━━━━━━━━━\u001b[0m\u001b[37m\u001b[0m \u001b[1m142s\u001b[0m 304ms/step - accuracy: 0.2397 - loss: 1.6030 - val_accuracy: 0.2351 - val_loss: 1.6081\n",
            "Epoch 3/5\n",
            "\u001b[1m413/413\u001b[0m \u001b[32m━━━━━━━━━━━━━━━━━━━━\u001b[0m\u001b[37m\u001b[0m \u001b[1m142s\u001b[0m 344ms/step - accuracy: 0.2397 - loss: 1.6018 - val_accuracy: 0.2351 - val_loss: 1.6089\n",
            "Epoch 4/5\n",
            "\u001b[1m413/413\u001b[0m \u001b[32m━━━━━━━━━━━━━━━━━━━━\u001b[0m\u001b[37m\u001b[0m \u001b[1m187s\u001b[0m 307ms/step - accuracy: 0.2397 - loss: 1.6015 - val_accuracy: 0.2351 - val_loss: 1.6095\n",
            "Epoch 5/5\n",
            "\u001b[1m413/413\u001b[0m \u001b[32m━━━━━━━━━━━━━━━━━━━━\u001b[0m\u001b[37m\u001b[0m \u001b[1m135s\u001b[0m 291ms/step - accuracy: 0.2397 - loss: 1.6015 - val_accuracy: 0.2351 - val_loss: 1.6100\n"
          ]
        },
        {
          "data": {
            "text/html": [],
            "text/plain": [
              "<IPython.core.display.HTML object>"
            ]
          },
          "metadata": {},
          "output_type": "display_data"
        },
        {
          "data": {
            "text/html": [
              "<br>    <style><br>        .wandb-row {<br>            display: flex;<br>            flex-direction: row;<br>            flex-wrap: wrap;<br>            justify-content: flex-start;<br>            width: 100%;<br>        }<br>        .wandb-col {<br>            display: flex;<br>            flex-direction: column;<br>            flex-basis: 100%;<br>            flex: 1;<br>            padding: 10px;<br>        }<br>    </style><br><div class=\"wandb-row\"><div class=\"wandb-col\"><h3>Run history:</h3><br/><table class=\"wandb\"><tr><td>epoch/accuracy</td><td>▁████</td></tr><tr><td>epoch/epoch</td><td>▁▃▅▆█</td></tr><tr><td>epoch/learning_rate</td><td>▁▁▁▁▁</td></tr><tr><td>epoch/loss</td><td>█▁▁▁▁</td></tr><tr><td>epoch/val_accuracy</td><td>▁▁▁▁▁</td></tr><tr><td>epoch/val_loss</td><td>▁▂▅▇█</td></tr></table><br/></div><div class=\"wandb-col\"><h3>Run summary:</h3><br/><table class=\"wandb\"><tr><td>epoch/accuracy</td><td>0.24576</td></tr><tr><td>epoch/epoch</td><td>4</td></tr><tr><td>epoch/learning_rate</td><td>0.001</td></tr><tr><td>epoch/loss</td><td>1.59941</td></tr><tr><td>epoch/val_accuracy</td><td>0.23514</td></tr><tr><td>epoch/val_loss</td><td>1.60998</td></tr></table><br/></div></div>"
            ],
            "text/plain": [
              "<IPython.core.display.HTML object>"
            ]
          },
          "metadata": {},
          "output_type": "display_data"
        },
        {
          "data": {
            "text/html": [
              " View run <strong style=\"color:#cdcd00\">hopeful-sweep-7</strong> at: <a href='https://wandb.ai/fangselection123-happiest-minds-technologies/5-Flower-Dataset/runs/drmcprnb' target=\"_blank\">https://wandb.ai/fangselection123-happiest-minds-technologies/5-Flower-Dataset/runs/drmcprnb</a><br> View project at: <a href='https://wandb.ai/fangselection123-happiest-minds-technologies/5-Flower-Dataset' target=\"_blank\">https://wandb.ai/fangselection123-happiest-minds-technologies/5-Flower-Dataset</a><br>Synced 5 W&B file(s), 0 media file(s), 0 artifact file(s) and 0 other file(s)"
            ],
            "text/plain": [
              "<IPython.core.display.HTML object>"
            ]
          },
          "metadata": {},
          "output_type": "display_data"
        },
        {
          "data": {
            "text/html": [
              "Find logs at: <code>./wandb/run-20250614_051607-drmcprnb/logs</code>"
            ],
            "text/plain": [
              "<IPython.core.display.HTML object>"
            ]
          },
          "metadata": {},
          "output_type": "display_data"
        },
        {
          "name": "stderr",
          "output_type": "stream",
          "text": [
            "\u001b[34m\u001b[1mwandb\u001b[0m: Agent Starting Run: g281rzep with config:\n",
            "\u001b[34m\u001b[1mwandb\u001b[0m: \tbatch_size: 8\n",
            "\u001b[34m\u001b[1mwandb\u001b[0m: \tepochs: 5\n",
            "\u001b[34m\u001b[1mwandb\u001b[0m: \thidden_nodes: 32\n",
            "\u001b[34m\u001b[1mwandb\u001b[0m: \timg_size: 224\n",
            "\u001b[34m\u001b[1mwandb\u001b[0m: \tlearning_rate: 0.0001\n",
            "\u001b[34m\u001b[1mwandb\u001b[0m: W&B API key is configured. Use \u001b[1m`wandb login --relogin`\u001b[0m to force relogin\n"
          ]
        },
        {
          "data": {
            "text/html": [
              "Tracking run with wandb version 0.19.11"
            ],
            "text/plain": [
              "<IPython.core.display.HTML object>"
            ]
          },
          "metadata": {},
          "output_type": "display_data"
        },
        {
          "data": {
            "text/html": [
              "Run data is saved locally in <code>/content/wandb/run-20250614_052841-g281rzep</code>"
            ],
            "text/plain": [
              "<IPython.core.display.HTML object>"
            ]
          },
          "metadata": {},
          "output_type": "display_data"
        },
        {
          "data": {
            "text/html": [
              "Syncing run <strong><a href='https://wandb.ai/fangselection123-happiest-minds-technologies/5-Flower-Dataset/runs/g281rzep' target=\"_blank\">zany-sweep-8</a></strong> to <a href='https://wandb.ai/fangselection123-happiest-minds-technologies/5-Flower-Dataset' target=\"_blank\">Weights & Biases</a> (<a href='https://wandb.me/developer-guide' target=\"_blank\">docs</a>)<br>Sweep page: <a href='https://wandb.ai/fangselection123-happiest-minds-technologies/5-Flower-Dataset/sweeps/4c9k46ix' target=\"_blank\">https://wandb.ai/fangselection123-happiest-minds-technologies/5-Flower-Dataset/sweeps/4c9k46ix</a>"
            ],
            "text/plain": [
              "<IPython.core.display.HTML object>"
            ]
          },
          "metadata": {},
          "output_type": "display_data"
        },
        {
          "data": {
            "text/html": [
              " View project at <a href='https://wandb.ai/fangselection123-happiest-minds-technologies/5-Flower-Dataset' target=\"_blank\">https://wandb.ai/fangselection123-happiest-minds-technologies/5-Flower-Dataset</a>"
            ],
            "text/plain": [
              "<IPython.core.display.HTML object>"
            ]
          },
          "metadata": {},
          "output_type": "display_data"
        },
        {
          "data": {
            "text/html": [
              " View sweep at <a href='https://wandb.ai/fangselection123-happiest-minds-technologies/5-Flower-Dataset/sweeps/4c9k46ix' target=\"_blank\">https://wandb.ai/fangselection123-happiest-minds-technologies/5-Flower-Dataset/sweeps/4c9k46ix</a>"
            ],
            "text/plain": [
              "<IPython.core.display.HTML object>"
            ]
          },
          "metadata": {},
          "output_type": "display_data"
        },
        {
          "data": {
            "text/html": [
              " View run at <a href='https://wandb.ai/fangselection123-happiest-minds-technologies/5-Flower-Dataset/runs/g281rzep' target=\"_blank\">https://wandb.ai/fangselection123-happiest-minds-technologies/5-Flower-Dataset/runs/g281rzep</a>"
            ],
            "text/plain": [
              "<IPython.core.display.HTML object>"
            ]
          },
          "metadata": {},
          "output_type": "display_data"
        },
        {
          "name": "stdout",
          "output_type": "stream",
          "text": [
            "Epoch 1/5\n",
            "\u001b[1m413/413\u001b[0m \u001b[32m━━━━━━━━━━━━━━━━━━━━\u001b[0m\u001b[37m\u001b[0m \u001b[1m125s\u001b[0m 300ms/step - accuracy: 0.2272 - loss: 3.6889 - val_accuracy: 0.2351 - val_loss: 1.6077\n",
            "Epoch 2/5\n",
            "\u001b[1m413/413\u001b[0m \u001b[32m━━━━━━━━━━━━━━━━━━━━\u001b[0m\u001b[37m\u001b[0m \u001b[1m140s\u001b[0m 296ms/step - accuracy: 0.2397 - loss: 1.6032 - val_accuracy: 0.2351 - val_loss: 1.6080\n",
            "Epoch 3/5\n",
            "\u001b[1m413/413\u001b[0m \u001b[32m━━━━━━━━━━━━━━━━━━━━\u001b[0m\u001b[37m\u001b[0m \u001b[1m143s\u001b[0m 298ms/step - accuracy: 0.2397 - loss: 1.6018 - val_accuracy: 0.2351 - val_loss: 1.6088\n",
            "Epoch 4/5\n",
            "\u001b[1m413/413\u001b[0m \u001b[32m━━━━━━━━━━━━━━━━━━━━\u001b[0m\u001b[37m\u001b[0m \u001b[1m142s\u001b[0m 344ms/step - accuracy: 0.2397 - loss: 1.6015 - val_accuracy: 0.2351 - val_loss: 1.6095\n",
            "Epoch 5/5\n",
            "\u001b[1m413/413\u001b[0m \u001b[32m━━━━━━━━━━━━━━━━━━━━\u001b[0m\u001b[37m\u001b[0m \u001b[1m202s\u001b[0m 345ms/step - accuracy: 0.2397 - loss: 1.6015 - val_accuracy: 0.2351 - val_loss: 1.6099\n"
          ]
        },
        {
          "data": {
            "text/html": [],
            "text/plain": [
              "<IPython.core.display.HTML object>"
            ]
          },
          "metadata": {},
          "output_type": "display_data"
        },
        {
          "data": {
            "text/html": [
              "<br>    <style><br>        .wandb-row {<br>            display: flex;<br>            flex-direction: row;<br>            flex-wrap: wrap;<br>            justify-content: flex-start;<br>            width: 100%;<br>        }<br>        .wandb-col {<br>            display: flex;<br>            flex-direction: column;<br>            flex-basis: 100%;<br>            flex: 1;<br>            padding: 10px;<br>        }<br>    </style><br><div class=\"wandb-row\"><div class=\"wandb-col\"><h3>Run history:</h3><br/><table class=\"wandb\"><tr><td>epoch/accuracy</td><td>▁████</td></tr><tr><td>epoch/epoch</td><td>▁▃▅▆█</td></tr><tr><td>epoch/learning_rate</td><td>▁▁▁▁▁</td></tr><tr><td>epoch/loss</td><td>█▁▁▁▁</td></tr><tr><td>epoch/val_accuracy</td><td>▁▁▁▁▁</td></tr><tr><td>epoch/val_loss</td><td>▁▂▄▇█</td></tr></table><br/></div><div class=\"wandb-col\"><h3>Run summary:</h3><br/><table class=\"wandb\"><tr><td>epoch/accuracy</td><td>0.24576</td></tr><tr><td>epoch/epoch</td><td>4</td></tr><tr><td>epoch/learning_rate</td><td>0.001</td></tr><tr><td>epoch/loss</td><td>1.59941</td></tr><tr><td>epoch/val_accuracy</td><td>0.23514</td></tr><tr><td>epoch/val_loss</td><td>1.60995</td></tr></table><br/></div></div>"
            ],
            "text/plain": [
              "<IPython.core.display.HTML object>"
            ]
          },
          "metadata": {},
          "output_type": "display_data"
        },
        {
          "data": {
            "text/html": [
              " View run <strong style=\"color:#cdcd00\">zany-sweep-8</strong> at: <a href='https://wandb.ai/fangselection123-happiest-minds-technologies/5-Flower-Dataset/runs/g281rzep' target=\"_blank\">https://wandb.ai/fangselection123-happiest-minds-technologies/5-Flower-Dataset/runs/g281rzep</a><br> View project at: <a href='https://wandb.ai/fangselection123-happiest-minds-technologies/5-Flower-Dataset' target=\"_blank\">https://wandb.ai/fangselection123-happiest-minds-technologies/5-Flower-Dataset</a><br>Synced 5 W&B file(s), 0 media file(s), 0 artifact file(s) and 0 other file(s)"
            ],
            "text/plain": [
              "<IPython.core.display.HTML object>"
            ]
          },
          "metadata": {},
          "output_type": "display_data"
        },
        {
          "data": {
            "text/html": [
              "Find logs at: <code>./wandb/run-20250614_052841-g281rzep/logs</code>"
            ],
            "text/plain": [
              "<IPython.core.display.HTML object>"
            ]
          },
          "metadata": {},
          "output_type": "display_data"
        },
        {
          "name": "stderr",
          "output_type": "stream",
          "text": [
            "\u001b[34m\u001b[1mwandb\u001b[0m: Sweep Agent: Waiting for job.\n",
            "\u001b[34m\u001b[1mwandb\u001b[0m: Job received.\n",
            "\u001b[34m\u001b[1mwandb\u001b[0m: Agent Starting Run: rujxvg0x with config:\n",
            "\u001b[34m\u001b[1mwandb\u001b[0m: \tbatch_size: 8\n",
            "\u001b[34m\u001b[1mwandb\u001b[0m: \tepochs: 5\n",
            "\u001b[34m\u001b[1mwandb\u001b[0m: \thidden_nodes: 32\n",
            "\u001b[34m\u001b[1mwandb\u001b[0m: \timg_size: 224\n",
            "\u001b[34m\u001b[1mwandb\u001b[0m: \tlearning_rate: 1e-05\n"
          ]
        },
        {
          "data": {
            "text/html": [
              "Tracking run with wandb version 0.19.11"
            ],
            "text/plain": [
              "<IPython.core.display.HTML object>"
            ]
          },
          "metadata": {},
          "output_type": "display_data"
        },
        {
          "data": {
            "text/html": [
              "Run data is saved locally in <code>/content/wandb/run-20250614_054136-rujxvg0x</code>"
            ],
            "text/plain": [
              "<IPython.core.display.HTML object>"
            ]
          },
          "metadata": {},
          "output_type": "display_data"
        },
        {
          "data": {
            "text/html": [
              "Syncing run <strong><a href='https://wandb.ai/fangselection123-happiest-minds-technologies/5-Flower-Dataset/runs/rujxvg0x' target=\"_blank\">glad-sweep-9</a></strong> to <a href='https://wandb.ai/fangselection123-happiest-minds-technologies/5-Flower-Dataset' target=\"_blank\">Weights & Biases</a> (<a href='https://wandb.me/developer-guide' target=\"_blank\">docs</a>)<br>Sweep page: <a href='https://wandb.ai/fangselection123-happiest-minds-technologies/5-Flower-Dataset/sweeps/4c9k46ix' target=\"_blank\">https://wandb.ai/fangselection123-happiest-minds-technologies/5-Flower-Dataset/sweeps/4c9k46ix</a>"
            ],
            "text/plain": [
              "<IPython.core.display.HTML object>"
            ]
          },
          "metadata": {},
          "output_type": "display_data"
        },
        {
          "data": {
            "text/html": [
              " View project at <a href='https://wandb.ai/fangselection123-happiest-minds-technologies/5-Flower-Dataset' target=\"_blank\">https://wandb.ai/fangselection123-happiest-minds-technologies/5-Flower-Dataset</a>"
            ],
            "text/plain": [
              "<IPython.core.display.HTML object>"
            ]
          },
          "metadata": {},
          "output_type": "display_data"
        },
        {
          "data": {
            "text/html": [
              " View sweep at <a href='https://wandb.ai/fangselection123-happiest-minds-technologies/5-Flower-Dataset/sweeps/4c9k46ix' target=\"_blank\">https://wandb.ai/fangselection123-happiest-minds-technologies/5-Flower-Dataset/sweeps/4c9k46ix</a>"
            ],
            "text/plain": [
              "<IPython.core.display.HTML object>"
            ]
          },
          "metadata": {},
          "output_type": "display_data"
        },
        {
          "data": {
            "text/html": [
              " View run at <a href='https://wandb.ai/fangselection123-happiest-minds-technologies/5-Flower-Dataset/runs/rujxvg0x' target=\"_blank\">https://wandb.ai/fangselection123-happiest-minds-technologies/5-Flower-Dataset/runs/rujxvg0x</a>"
            ],
            "text/plain": [
              "<IPython.core.display.HTML object>"
            ]
          },
          "metadata": {},
          "output_type": "display_data"
        },
        {
          "name": "stdout",
          "output_type": "stream",
          "text": [
            "Epoch 1/5\n",
            "\u001b[1m413/413\u001b[0m \u001b[32m━━━━━━━━━━━━━━━━━━━━\u001b[0m\u001b[37m\u001b[0m \u001b[1m122s\u001b[0m 293ms/step - accuracy: 0.2181 - loss: 5.1319 - val_accuracy: 0.2351 - val_loss: 1.6076\n",
            "Epoch 2/5\n",
            "\u001b[1m413/413\u001b[0m \u001b[32m━━━━━━━━━━━━━━━━━━━━\u001b[0m\u001b[37m\u001b[0m \u001b[1m142s\u001b[0m 294ms/step - accuracy: 0.2397 - loss: 1.6035 - val_accuracy: 0.2351 - val_loss: 1.6078\n",
            "Epoch 3/5\n",
            "\u001b[1m413/413\u001b[0m \u001b[32m━━━━━━━━━━━━━━━━━━━━\u001b[0m\u001b[37m\u001b[0m \u001b[1m140s\u001b[0m 291ms/step - accuracy: 0.2397 - loss: 1.6019 - val_accuracy: 0.2351 - val_loss: 1.6086\n",
            "Epoch 4/5\n",
            "\u001b[1m413/413\u001b[0m \u001b[32m━━━━━━━━━━━━━━━━━━━━\u001b[0m\u001b[37m\u001b[0m \u001b[1m143s\u001b[0m 347ms/step - accuracy: 0.2397 - loss: 1.6015 - val_accuracy: 0.2351 - val_loss: 1.6094\n",
            "Epoch 5/5\n",
            "\u001b[1m413/413\u001b[0m \u001b[32m━━━━━━━━━━━━━━━━━━━━\u001b[0m\u001b[37m\u001b[0m \u001b[1m202s\u001b[0m 346ms/step - accuracy: 0.2397 - loss: 1.6015 - val_accuracy: 0.2351 - val_loss: 1.6099\n"
          ]
        },
        {
          "data": {
            "text/html": [],
            "text/plain": [
              "<IPython.core.display.HTML object>"
            ]
          },
          "metadata": {},
          "output_type": "display_data"
        },
        {
          "data": {
            "text/html": [
              "<br>    <style><br>        .wandb-row {<br>            display: flex;<br>            flex-direction: row;<br>            flex-wrap: wrap;<br>            justify-content: flex-start;<br>            width: 100%;<br>        }<br>        .wandb-col {<br>            display: flex;<br>            flex-direction: column;<br>            flex-basis: 100%;<br>            flex: 1;<br>            padding: 10px;<br>        }<br>    </style><br><div class=\"wandb-row\"><div class=\"wandb-col\"><h3>Run history:</h3><br/><table class=\"wandb\"><tr><td>epoch/accuracy</td><td>▁████</td></tr><tr><td>epoch/epoch</td><td>▁▃▅▆█</td></tr><tr><td>epoch/learning_rate</td><td>▁▁▁▁▁</td></tr><tr><td>epoch/loss</td><td>█▁▁▁▁</td></tr><tr><td>epoch/val_accuracy</td><td>▁▁▁▁▁</td></tr><tr><td>epoch/val_loss</td><td>▁▂▄▆█</td></tr></table><br/></div><div class=\"wandb-col\"><h3>Run summary:</h3><br/><table class=\"wandb\"><tr><td>epoch/accuracy</td><td>0.24576</td></tr><tr><td>epoch/epoch</td><td>4</td></tr><tr><td>epoch/learning_rate</td><td>0.001</td></tr><tr><td>epoch/loss</td><td>1.59943</td></tr><tr><td>epoch/val_accuracy</td><td>0.23514</td></tr><tr><td>epoch/val_loss</td><td>1.60987</td></tr></table><br/></div></div>"
            ],
            "text/plain": [
              "<IPython.core.display.HTML object>"
            ]
          },
          "metadata": {},
          "output_type": "display_data"
        },
        {
          "data": {
            "text/html": [
              " View run <strong style=\"color:#cdcd00\">glad-sweep-9</strong> at: <a href='https://wandb.ai/fangselection123-happiest-minds-technologies/5-Flower-Dataset/runs/rujxvg0x' target=\"_blank\">https://wandb.ai/fangselection123-happiest-minds-technologies/5-Flower-Dataset/runs/rujxvg0x</a><br> View project at: <a href='https://wandb.ai/fangselection123-happiest-minds-technologies/5-Flower-Dataset' target=\"_blank\">https://wandb.ai/fangselection123-happiest-minds-technologies/5-Flower-Dataset</a><br>Synced 5 W&B file(s), 0 media file(s), 0 artifact file(s) and 0 other file(s)"
            ],
            "text/plain": [
              "<IPython.core.display.HTML object>"
            ]
          },
          "metadata": {},
          "output_type": "display_data"
        },
        {
          "data": {
            "text/html": [
              "Find logs at: <code>./wandb/run-20250614_054136-rujxvg0x/logs</code>"
            ],
            "text/plain": [
              "<IPython.core.display.HTML object>"
            ]
          },
          "metadata": {},
          "output_type": "display_data"
        },
        {
          "name": "stderr",
          "output_type": "stream",
          "text": [
            "\u001b[34m\u001b[1mwandb\u001b[0m: Agent Starting Run: p9kaf9i1 with config:\n",
            "\u001b[34m\u001b[1mwandb\u001b[0m: \tbatch_size: 8\n",
            "\u001b[34m\u001b[1mwandb\u001b[0m: \tepochs: 5\n",
            "\u001b[34m\u001b[1mwandb\u001b[0m: \thidden_nodes: 64\n",
            "\u001b[34m\u001b[1mwandb\u001b[0m: \timg_size: 16\n",
            "\u001b[34m\u001b[1mwandb\u001b[0m: \tlearning_rate: 0.001\n"
          ]
        },
        {
          "data": {
            "text/html": [
              "Tracking run with wandb version 0.19.11"
            ],
            "text/plain": [
              "<IPython.core.display.HTML object>"
            ]
          },
          "metadata": {},
          "output_type": "display_data"
        },
        {
          "data": {
            "text/html": [
              "Run data is saved locally in <code>/content/wandb/run-20250614_055420-p9kaf9i1</code>"
            ],
            "text/plain": [
              "<IPython.core.display.HTML object>"
            ]
          },
          "metadata": {},
          "output_type": "display_data"
        },
        {
          "data": {
            "text/html": [
              "Syncing run <strong><a href='https://wandb.ai/fangselection123-happiest-minds-technologies/5-Flower-Dataset/runs/p9kaf9i1' target=\"_blank\">laced-sweep-10</a></strong> to <a href='https://wandb.ai/fangselection123-happiest-minds-technologies/5-Flower-Dataset' target=\"_blank\">Weights & Biases</a> (<a href='https://wandb.me/developer-guide' target=\"_blank\">docs</a>)<br>Sweep page: <a href='https://wandb.ai/fangselection123-happiest-minds-technologies/5-Flower-Dataset/sweeps/4c9k46ix' target=\"_blank\">https://wandb.ai/fangselection123-happiest-minds-technologies/5-Flower-Dataset/sweeps/4c9k46ix</a>"
            ],
            "text/plain": [
              "<IPython.core.display.HTML object>"
            ]
          },
          "metadata": {},
          "output_type": "display_data"
        },
        {
          "data": {
            "text/html": [
              " View project at <a href='https://wandb.ai/fangselection123-happiest-minds-technologies/5-Flower-Dataset' target=\"_blank\">https://wandb.ai/fangselection123-happiest-minds-technologies/5-Flower-Dataset</a>"
            ],
            "text/plain": [
              "<IPython.core.display.HTML object>"
            ]
          },
          "metadata": {},
          "output_type": "display_data"
        },
        {
          "data": {
            "text/html": [
              " View sweep at <a href='https://wandb.ai/fangselection123-happiest-minds-technologies/5-Flower-Dataset/sweeps/4c9k46ix' target=\"_blank\">https://wandb.ai/fangselection123-happiest-minds-technologies/5-Flower-Dataset/sweeps/4c9k46ix</a>"
            ],
            "text/plain": [
              "<IPython.core.display.HTML object>"
            ]
          },
          "metadata": {},
          "output_type": "display_data"
        },
        {
          "data": {
            "text/html": [
              " View run at <a href='https://wandb.ai/fangselection123-happiest-minds-technologies/5-Flower-Dataset/runs/p9kaf9i1' target=\"_blank\">https://wandb.ai/fangselection123-happiest-minds-technologies/5-Flower-Dataset/runs/p9kaf9i1</a>"
            ],
            "text/plain": [
              "<IPython.core.display.HTML object>"
            ]
          },
          "metadata": {},
          "output_type": "display_data"
        },
        {
          "name": "stdout",
          "output_type": "stream",
          "text": [
            "Epoch 1/5\n",
            "\u001b[1m413/413\u001b[0m \u001b[32m━━━━━━━━━━━━━━━━━━━━\u001b[0m\u001b[37m\u001b[0m \u001b[1m156s\u001b[0m 250ms/step - accuracy: 0.3410 - loss: 1.4873 - val_accuracy: 0.4189 - val_loss: 1.2662\n",
            "Epoch 2/5\n",
            "\u001b[1m413/413\u001b[0m \u001b[32m━━━━━━━━━━━━━━━━━━━━\u001b[0m\u001b[37m\u001b[0m \u001b[1m143s\u001b[0m 252ms/step - accuracy: 0.4465 - loss: 1.2650 - val_accuracy: 0.4541 - val_loss: 1.2380\n",
            "Epoch 3/5\n",
            "\u001b[1m413/413\u001b[0m \u001b[32m━━━━━━━━━━━━━━━━━━━━\u001b[0m\u001b[37m\u001b[0m \u001b[1m202s\u001b[0m 397ms/step - accuracy: 0.4721 - loss: 1.2124 - val_accuracy: 0.4378 - val_loss: 1.2386\n",
            "Epoch 4/5\n",
            "\u001b[1m413/413\u001b[0m \u001b[32m━━━━━━━━━━━━━━━━━━━━\u001b[0m\u001b[37m\u001b[0m \u001b[1m149s\u001b[0m 267ms/step - accuracy: 0.4952 - loss: 1.1763 - val_accuracy: 0.4811 - val_loss: 1.2261\n",
            "Epoch 5/5\n",
            "\u001b[1m413/413\u001b[0m \u001b[32m━━━━━━━━━━━━━━━━━━━━\u001b[0m\u001b[37m\u001b[0m \u001b[1m137s\u001b[0m 255ms/step - accuracy: 0.5207 - loss: 1.1353 - val_accuracy: 0.4622 - val_loss: 1.2179\n"
          ]
        },
        {
          "data": {
            "text/html": [],
            "text/plain": [
              "<IPython.core.display.HTML object>"
            ]
          },
          "metadata": {},
          "output_type": "display_data"
        },
        {
          "data": {
            "text/html": [
              "<br>    <style><br>        .wandb-row {<br>            display: flex;<br>            flex-direction: row;<br>            flex-wrap: wrap;<br>            justify-content: flex-start;<br>            width: 100%;<br>        }<br>        .wandb-col {<br>            display: flex;<br>            flex-direction: column;<br>            flex-basis: 100%;<br>            flex: 1;<br>            padding: 10px;<br>        }<br>    </style><br><div class=\"wandb-row\"><div class=\"wandb-col\"><h3>Run history:</h3><br/><table class=\"wandb\"><tr><td>epoch/accuracy</td><td>▁▄▅▇█</td></tr><tr><td>epoch/epoch</td><td>▁▃▅▆█</td></tr><tr><td>epoch/learning_rate</td><td>▁▁▁▁▁</td></tr><tr><td>epoch/loss</td><td>█▄▃▂▁</td></tr><tr><td>epoch/val_accuracy</td><td>▁▅▃█▆</td></tr><tr><td>epoch/val_loss</td><td>█▄▄▂▁</td></tr></table><br/></div><div class=\"wandb-col\"><h3>Run summary:</h3><br/><table class=\"wandb\"><tr><td>epoch/accuracy</td><td>0.52758</td></tr><tr><td>epoch/epoch</td><td>4</td></tr><tr><td>epoch/learning_rate</td><td>0.001</td></tr><tr><td>epoch/loss</td><td>1.12943</td></tr><tr><td>epoch/val_accuracy</td><td>0.46216</td></tr><tr><td>epoch/val_loss</td><td>1.21785</td></tr></table><br/></div></div>"
            ],
            "text/plain": [
              "<IPython.core.display.HTML object>"
            ]
          },
          "metadata": {},
          "output_type": "display_data"
        },
        {
          "data": {
            "text/html": [
              " View run <strong style=\"color:#cdcd00\">laced-sweep-10</strong> at: <a href='https://wandb.ai/fangselection123-happiest-minds-technologies/5-Flower-Dataset/runs/p9kaf9i1' target=\"_blank\">https://wandb.ai/fangselection123-happiest-minds-technologies/5-Flower-Dataset/runs/p9kaf9i1</a><br> View project at: <a href='https://wandb.ai/fangselection123-happiest-minds-technologies/5-Flower-Dataset' target=\"_blank\">https://wandb.ai/fangselection123-happiest-minds-technologies/5-Flower-Dataset</a><br>Synced 5 W&B file(s), 0 media file(s), 0 artifact file(s) and 0 other file(s)"
            ],
            "text/plain": [
              "<IPython.core.display.HTML object>"
            ]
          },
          "metadata": {},
          "output_type": "display_data"
        },
        {
          "data": {
            "text/html": [
              "Find logs at: <code>./wandb/run-20250614_055420-p9kaf9i1/logs</code>"
            ],
            "text/plain": [
              "<IPython.core.display.HTML object>"
            ]
          },
          "metadata": {},
          "output_type": "display_data"
        },
        {
          "name": "stderr",
          "output_type": "stream",
          "text": [
            "\u001b[34m\u001b[1mwandb\u001b[0m: Agent Starting Run: 3a26oyjw with config:\n",
            "\u001b[34m\u001b[1mwandb\u001b[0m: \tbatch_size: 8\n",
            "\u001b[34m\u001b[1mwandb\u001b[0m: \tepochs: 5\n",
            "\u001b[34m\u001b[1mwandb\u001b[0m: \thidden_nodes: 64\n",
            "\u001b[34m\u001b[1mwandb\u001b[0m: \timg_size: 16\n",
            "\u001b[34m\u001b[1mwandb\u001b[0m: \tlearning_rate: 0.0001\n"
          ]
        },
        {
          "data": {
            "text/html": [
              "Tracking run with wandb version 0.19.11"
            ],
            "text/plain": [
              "<IPython.core.display.HTML object>"
            ]
          },
          "metadata": {},
          "output_type": "display_data"
        },
        {
          "data": {
            "text/html": [
              "Run data is saved locally in <code>/content/wandb/run-20250614_060739-3a26oyjw</code>"
            ],
            "text/plain": [
              "<IPython.core.display.HTML object>"
            ]
          },
          "metadata": {},
          "output_type": "display_data"
        },
        {
          "data": {
            "text/html": [
              "Syncing run <strong><a href='https://wandb.ai/fangselection123-happiest-minds-technologies/5-Flower-Dataset/runs/3a26oyjw' target=\"_blank\">lilac-sweep-11</a></strong> to <a href='https://wandb.ai/fangselection123-happiest-minds-technologies/5-Flower-Dataset' target=\"_blank\">Weights & Biases</a> (<a href='https://wandb.me/developer-guide' target=\"_blank\">docs</a>)<br>Sweep page: <a href='https://wandb.ai/fangselection123-happiest-minds-technologies/5-Flower-Dataset/sweeps/4c9k46ix' target=\"_blank\">https://wandb.ai/fangselection123-happiest-minds-technologies/5-Flower-Dataset/sweeps/4c9k46ix</a>"
            ],
            "text/plain": [
              "<IPython.core.display.HTML object>"
            ]
          },
          "metadata": {},
          "output_type": "display_data"
        },
        {
          "data": {
            "text/html": [
              " View project at <a href='https://wandb.ai/fangselection123-happiest-minds-technologies/5-Flower-Dataset' target=\"_blank\">https://wandb.ai/fangselection123-happiest-minds-technologies/5-Flower-Dataset</a>"
            ],
            "text/plain": [
              "<IPython.core.display.HTML object>"
            ]
          },
          "metadata": {},
          "output_type": "display_data"
        },
        {
          "data": {
            "text/html": [
              " View sweep at <a href='https://wandb.ai/fangselection123-happiest-minds-technologies/5-Flower-Dataset/sweeps/4c9k46ix' target=\"_blank\">https://wandb.ai/fangselection123-happiest-minds-technologies/5-Flower-Dataset/sweeps/4c9k46ix</a>"
            ],
            "text/plain": [
              "<IPython.core.display.HTML object>"
            ]
          },
          "metadata": {},
          "output_type": "display_data"
        },
        {
          "data": {
            "text/html": [
              " View run at <a href='https://wandb.ai/fangselection123-happiest-minds-technologies/5-Flower-Dataset/runs/3a26oyjw' target=\"_blank\">https://wandb.ai/fangselection123-happiest-minds-technologies/5-Flower-Dataset/runs/3a26oyjw</a>"
            ],
            "text/plain": [
              "<IPython.core.display.HTML object>"
            ]
          },
          "metadata": {},
          "output_type": "display_data"
        },
        {
          "name": "stdout",
          "output_type": "stream",
          "text": [
            "Epoch 1/5\n",
            "\u001b[1m413/413\u001b[0m \u001b[32m━━━━━━━━━━━━━━━━━━━━\u001b[0m\u001b[37m\u001b[0m \u001b[1m106s\u001b[0m 254ms/step - accuracy: 0.3311 - loss: 1.5009 - val_accuracy: 0.4514 - val_loss: 1.2635\n",
            "Epoch 2/5\n",
            "\u001b[1m413/413\u001b[0m \u001b[32m━━━━━━━━━━━━━━━━━━━━\u001b[0m\u001b[37m\u001b[0m \u001b[1m107s\u001b[0m 259ms/step - accuracy: 0.4471 - loss: 1.2696 - val_accuracy: 0.4405 - val_loss: 1.2576\n",
            "Epoch 3/5\n",
            "\u001b[1m413/413\u001b[0m \u001b[32m━━━━━━━━━━━━━━━━━━━━\u001b[0m\u001b[37m\u001b[0m \u001b[1m142s\u001b[0m 261ms/step - accuracy: 0.4726 - loss: 1.2159 - val_accuracy: 0.4541 - val_loss: 1.2291\n",
            "Epoch 4/5\n",
            "\u001b[1m413/413\u001b[0m \u001b[32m━━━━━━━━━━━━━━━━━━━━\u001b[0m\u001b[37m\u001b[0m \u001b[1m202s\u001b[0m 406ms/step - accuracy: 0.4974 - loss: 1.1709 - val_accuracy: 0.4730 - val_loss: 1.2280\n",
            "Epoch 5/5\n",
            "\u001b[1m413/413\u001b[0m \u001b[32m━━━━━━━━━━━━━━━━━━━━\u001b[0m\u001b[37m\u001b[0m \u001b[1m139s\u001b[0m 253ms/step - accuracy: 0.5153 - loss: 1.1350 - val_accuracy: 0.4811 - val_loss: 1.2143\n"
          ]
        },
        {
          "data": {
            "text/html": [],
            "text/plain": [
              "<IPython.core.display.HTML object>"
            ]
          },
          "metadata": {},
          "output_type": "display_data"
        },
        {
          "data": {
            "text/html": [
              "<br>    <style><br>        .wandb-row {<br>            display: flex;<br>            flex-direction: row;<br>            flex-wrap: wrap;<br>            justify-content: flex-start;<br>            width: 100%;<br>        }<br>        .wandb-col {<br>            display: flex;<br>            flex-direction: column;<br>            flex-basis: 100%;<br>            flex: 1;<br>            padding: 10px;<br>        }<br>    </style><br><div class=\"wandb-row\"><div class=\"wandb-col\"><h3>Run history:</h3><br/><table class=\"wandb\"><tr><td>epoch/accuracy</td><td>▁▅▆▇█</td></tr><tr><td>epoch/epoch</td><td>▁▃▅▆█</td></tr><tr><td>epoch/learning_rate</td><td>▁▁▁▁▁</td></tr><tr><td>epoch/loss</td><td>█▄▃▂▁</td></tr><tr><td>epoch/val_accuracy</td><td>▃▁▃▇█</td></tr><tr><td>epoch/val_loss</td><td>█▇▃▃▁</td></tr></table><br/></div><div class=\"wandb-col\"><h3>Run summary:</h3><br/><table class=\"wandb\"><tr><td>epoch/accuracy</td><td>0.53091</td></tr><tr><td>epoch/epoch</td><td>4</td></tr><tr><td>epoch/learning_rate</td><td>0.001</td></tr><tr><td>epoch/loss</td><td>1.13397</td></tr><tr><td>epoch/val_accuracy</td><td>0.48108</td></tr><tr><td>epoch/val_loss</td><td>1.21431</td></tr></table><br/></div></div>"
            ],
            "text/plain": [
              "<IPython.core.display.HTML object>"
            ]
          },
          "metadata": {},
          "output_type": "display_data"
        },
        {
          "data": {
            "text/html": [
              " View run <strong style=\"color:#cdcd00\">lilac-sweep-11</strong> at: <a href='https://wandb.ai/fangselection123-happiest-minds-technologies/5-Flower-Dataset/runs/3a26oyjw' target=\"_blank\">https://wandb.ai/fangselection123-happiest-minds-technologies/5-Flower-Dataset/runs/3a26oyjw</a><br> View project at: <a href='https://wandb.ai/fangselection123-happiest-minds-technologies/5-Flower-Dataset' target=\"_blank\">https://wandb.ai/fangselection123-happiest-minds-technologies/5-Flower-Dataset</a><br>Synced 5 W&B file(s), 0 media file(s), 0 artifact file(s) and 0 other file(s)"
            ],
            "text/plain": [
              "<IPython.core.display.HTML object>"
            ]
          },
          "metadata": {},
          "output_type": "display_data"
        },
        {
          "data": {
            "text/html": [
              "Find logs at: <code>./wandb/run-20250614_060739-3a26oyjw/logs</code>"
            ],
            "text/plain": [
              "<IPython.core.display.HTML object>"
            ]
          },
          "metadata": {},
          "output_type": "display_data"
        },
        {
          "name": "stderr",
          "output_type": "stream",
          "text": [
            "\u001b[34m\u001b[1mwandb\u001b[0m: Agent Starting Run: by86zu0r with config:\n",
            "\u001b[34m\u001b[1mwandb\u001b[0m: \tbatch_size: 8\n",
            "\u001b[34m\u001b[1mwandb\u001b[0m: \tepochs: 5\n",
            "\u001b[34m\u001b[1mwandb\u001b[0m: \thidden_nodes: 64\n",
            "\u001b[34m\u001b[1mwandb\u001b[0m: \timg_size: 16\n",
            "\u001b[34m\u001b[1mwandb\u001b[0m: \tlearning_rate: 1e-05\n"
          ]
        },
        {
          "data": {
            "text/html": [
              "Tracking run with wandb version 0.19.11"
            ],
            "text/plain": [
              "<IPython.core.display.HTML object>"
            ]
          },
          "metadata": {},
          "output_type": "display_data"
        },
        {
          "data": {
            "text/html": [
              "Run data is saved locally in <code>/content/wandb/run-20250614_061933-by86zu0r</code>"
            ],
            "text/plain": [
              "<IPython.core.display.HTML object>"
            ]
          },
          "metadata": {},
          "output_type": "display_data"
        },
        {
          "data": {
            "text/html": [
              "Syncing run <strong><a href='https://wandb.ai/fangselection123-happiest-minds-technologies/5-Flower-Dataset/runs/by86zu0r' target=\"_blank\">resilient-sweep-12</a></strong> to <a href='https://wandb.ai/fangselection123-happiest-minds-technologies/5-Flower-Dataset' target=\"_blank\">Weights & Biases</a> (<a href='https://wandb.me/developer-guide' target=\"_blank\">docs</a>)<br>Sweep page: <a href='https://wandb.ai/fangselection123-happiest-minds-technologies/5-Flower-Dataset/sweeps/4c9k46ix' target=\"_blank\">https://wandb.ai/fangselection123-happiest-minds-technologies/5-Flower-Dataset/sweeps/4c9k46ix</a>"
            ],
            "text/plain": [
              "<IPython.core.display.HTML object>"
            ]
          },
          "metadata": {},
          "output_type": "display_data"
        },
        {
          "data": {
            "text/html": [
              " View project at <a href='https://wandb.ai/fangselection123-happiest-minds-technologies/5-Flower-Dataset' target=\"_blank\">https://wandb.ai/fangselection123-happiest-minds-technologies/5-Flower-Dataset</a>"
            ],
            "text/plain": [
              "<IPython.core.display.HTML object>"
            ]
          },
          "metadata": {},
          "output_type": "display_data"
        },
        {
          "data": {
            "text/html": [
              " View sweep at <a href='https://wandb.ai/fangselection123-happiest-minds-technologies/5-Flower-Dataset/sweeps/4c9k46ix' target=\"_blank\">https://wandb.ai/fangselection123-happiest-minds-technologies/5-Flower-Dataset/sweeps/4c9k46ix</a>"
            ],
            "text/plain": [
              "<IPython.core.display.HTML object>"
            ]
          },
          "metadata": {},
          "output_type": "display_data"
        },
        {
          "data": {
            "text/html": [
              " View run at <a href='https://wandb.ai/fangselection123-happiest-minds-technologies/5-Flower-Dataset/runs/by86zu0r' target=\"_blank\">https://wandb.ai/fangselection123-happiest-minds-technologies/5-Flower-Dataset/runs/by86zu0r</a>"
            ],
            "text/plain": [
              "<IPython.core.display.HTML object>"
            ]
          },
          "metadata": {},
          "output_type": "display_data"
        },
        {
          "name": "stdout",
          "output_type": "stream",
          "text": [
            "Epoch 1/5\n",
            "\u001b[1m413/413\u001b[0m \u001b[32m━━━━━━━━━━━━━━━━━━━━\u001b[0m\u001b[37m\u001b[0m \u001b[1m107s\u001b[0m 257ms/step - accuracy: 0.3495 - loss: 1.4892 - val_accuracy: 0.4351 - val_loss: 1.2563\n",
            "Epoch 2/5\n",
            "\u001b[1m413/413\u001b[0m \u001b[32m━━━━━━━━━━━━━━━━━━━━\u001b[0m\u001b[37m\u001b[0m \u001b[1m143s\u001b[0m 345ms/step - accuracy: 0.4511 - loss: 1.2640 - val_accuracy: 0.4459 - val_loss: 1.2205\n",
            "Epoch 3/5\n",
            "\u001b[1m413/413\u001b[0m \u001b[32m━━━━━━━━━━━━━━━━━━━━\u001b[0m\u001b[37m\u001b[0m \u001b[1m201s\u001b[0m 343ms/step - accuracy: 0.4752 - loss: 1.2039 - val_accuracy: 0.4649 - val_loss: 1.2124\n",
            "Epoch 4/5\n",
            "\u001b[1m413/413\u001b[0m \u001b[32m━━━━━━━━━━━━━━━━━━━━\u001b[0m\u001b[37m\u001b[0m \u001b[1m108s\u001b[0m 259ms/step - accuracy: 0.5073 - loss: 1.1624 - val_accuracy: 0.4730 - val_loss: 1.2029\n",
            "Epoch 5/5\n",
            "\u001b[1m413/413\u001b[0m \u001b[32m━━━━━━━━━━━━━━━━━━━━\u001b[0m\u001b[37m\u001b[0m \u001b[1m143s\u001b[0m 261ms/step - accuracy: 0.5292 - loss: 1.1260 - val_accuracy: 0.4757 - val_loss: 1.2099\n"
          ]
        },
        {
          "data": {
            "text/html": [],
            "text/plain": [
              "<IPython.core.display.HTML object>"
            ]
          },
          "metadata": {},
          "output_type": "display_data"
        },
        {
          "data": {
            "text/html": [
              "<br>    <style><br>        .wandb-row {<br>            display: flex;<br>            flex-direction: row;<br>            flex-wrap: wrap;<br>            justify-content: flex-start;<br>            width: 100%;<br>        }<br>        .wandb-col {<br>            display: flex;<br>            flex-direction: column;<br>            flex-basis: 100%;<br>            flex: 1;<br>            padding: 10px;<br>        }<br>    </style><br><div class=\"wandb-row\"><div class=\"wandb-col\"><h3>Run history:</h3><br/><table class=\"wandb\"><tr><td>epoch/accuracy</td><td>▁▄▆▇█</td></tr><tr><td>epoch/epoch</td><td>▁▃▅▆█</td></tr><tr><td>epoch/learning_rate</td><td>▁▁▁▁▁</td></tr><tr><td>epoch/loss</td><td>█▄▃▂▁</td></tr><tr><td>epoch/val_accuracy</td><td>▁▃▆██</td></tr><tr><td>epoch/val_loss</td><td>█▃▂▁▂</td></tr></table><br/></div><div class=\"wandb-col\"><h3>Run summary:</h3><br/><table class=\"wandb\"><tr><td>epoch/accuracy</td><td>0.53303</td></tr><tr><td>epoch/epoch</td><td>4</td></tr><tr><td>epoch/learning_rate</td><td>0.001</td></tr><tr><td>epoch/loss</td><td>1.12736</td></tr><tr><td>epoch/val_accuracy</td><td>0.47568</td></tr><tr><td>epoch/val_loss</td><td>1.2099</td></tr></table><br/></div></div>"
            ],
            "text/plain": [
              "<IPython.core.display.HTML object>"
            ]
          },
          "metadata": {},
          "output_type": "display_data"
        },
        {
          "data": {
            "text/html": [
              " View run <strong style=\"color:#cdcd00\">resilient-sweep-12</strong> at: <a href='https://wandb.ai/fangselection123-happiest-minds-technologies/5-Flower-Dataset/runs/by86zu0r' target=\"_blank\">https://wandb.ai/fangselection123-happiest-minds-technologies/5-Flower-Dataset/runs/by86zu0r</a><br> View project at: <a href='https://wandb.ai/fangselection123-happiest-minds-technologies/5-Flower-Dataset' target=\"_blank\">https://wandb.ai/fangselection123-happiest-minds-technologies/5-Flower-Dataset</a><br>Synced 5 W&B file(s), 0 media file(s), 0 artifact file(s) and 0 other file(s)"
            ],
            "text/plain": [
              "<IPython.core.display.HTML object>"
            ]
          },
          "metadata": {},
          "output_type": "display_data"
        },
        {
          "data": {
            "text/html": [
              "Find logs at: <code>./wandb/run-20250614_061933-by86zu0r/logs</code>"
            ],
            "text/plain": [
              "<IPython.core.display.HTML object>"
            ]
          },
          "metadata": {},
          "output_type": "display_data"
        },
        {
          "name": "stderr",
          "output_type": "stream",
          "text": [
            "\u001b[34m\u001b[1mwandb\u001b[0m: Agent Starting Run: 7a9g1sll with config:\n",
            "\u001b[34m\u001b[1mwandb\u001b[0m: \tbatch_size: 8\n",
            "\u001b[34m\u001b[1mwandb\u001b[0m: \tepochs: 5\n",
            "\u001b[34m\u001b[1mwandb\u001b[0m: \thidden_nodes: 64\n",
            "\u001b[34m\u001b[1mwandb\u001b[0m: \timg_size: 64\n",
            "\u001b[34m\u001b[1mwandb\u001b[0m: \tlearning_rate: 0.001\n"
          ]
        },
        {
          "data": {
            "text/html": [
              "Tracking run with wandb version 0.19.11"
            ],
            "text/plain": [
              "<IPython.core.display.HTML object>"
            ]
          },
          "metadata": {},
          "output_type": "display_data"
        },
        {
          "data": {
            "text/html": [
              "Run data is saved locally in <code>/content/wandb/run-20250614_063202-7a9g1sll</code>"
            ],
            "text/plain": [
              "<IPython.core.display.HTML object>"
            ]
          },
          "metadata": {},
          "output_type": "display_data"
        },
        {
          "data": {
            "text/html": [
              "Syncing run <strong><a href='https://wandb.ai/fangselection123-happiest-minds-technologies/5-Flower-Dataset/runs/7a9g1sll' target=\"_blank\">fallen-sweep-13</a></strong> to <a href='https://wandb.ai/fangselection123-happiest-minds-technologies/5-Flower-Dataset' target=\"_blank\">Weights & Biases</a> (<a href='https://wandb.me/developer-guide' target=\"_blank\">docs</a>)<br>Sweep page: <a href='https://wandb.ai/fangselection123-happiest-minds-technologies/5-Flower-Dataset/sweeps/4c9k46ix' target=\"_blank\">https://wandb.ai/fangselection123-happiest-minds-technologies/5-Flower-Dataset/sweeps/4c9k46ix</a>"
            ],
            "text/plain": [
              "<IPython.core.display.HTML object>"
            ]
          },
          "metadata": {},
          "output_type": "display_data"
        },
        {
          "data": {
            "text/html": [
              " View project at <a href='https://wandb.ai/fangselection123-happiest-minds-technologies/5-Flower-Dataset' target=\"_blank\">https://wandb.ai/fangselection123-happiest-minds-technologies/5-Flower-Dataset</a>"
            ],
            "text/plain": [
              "<IPython.core.display.HTML object>"
            ]
          },
          "metadata": {},
          "output_type": "display_data"
        },
        {
          "data": {
            "text/html": [
              " View sweep at <a href='https://wandb.ai/fangselection123-happiest-minds-technologies/5-Flower-Dataset/sweeps/4c9k46ix' target=\"_blank\">https://wandb.ai/fangselection123-happiest-minds-technologies/5-Flower-Dataset/sweeps/4c9k46ix</a>"
            ],
            "text/plain": [
              "<IPython.core.display.HTML object>"
            ]
          },
          "metadata": {},
          "output_type": "display_data"
        },
        {
          "data": {
            "text/html": [
              " View run at <a href='https://wandb.ai/fangselection123-happiest-minds-technologies/5-Flower-Dataset/runs/7a9g1sll' target=\"_blank\">https://wandb.ai/fangselection123-happiest-minds-technologies/5-Flower-Dataset/runs/7a9g1sll</a>"
            ],
            "text/plain": [
              "<IPython.core.display.HTML object>"
            ]
          },
          "metadata": {},
          "output_type": "display_data"
        },
        {
          "name": "stdout",
          "output_type": "stream",
          "text": [
            "Epoch 1/5\n",
            "\u001b[1m413/413\u001b[0m \u001b[32m━━━━━━━━━━━━━━━━━━━━\u001b[0m\u001b[37m\u001b[0m \u001b[1m109s\u001b[0m 263ms/step - accuracy: 0.3223 - loss: 1.8961 - val_accuracy: 0.3568 - val_loss: 1.4461\n",
            "Epoch 2/5\n",
            "\u001b[1m413/413\u001b[0m \u001b[32m━━━━━━━━━━━━━━━━━━━━\u001b[0m\u001b[37m\u001b[0m \u001b[1m142s\u001b[0m 263ms/step - accuracy: 0.4070 - loss: 1.3800 - val_accuracy: 0.4162 - val_loss: 1.3514\n",
            "Epoch 3/5\n",
            "\u001b[1m413/413\u001b[0m \u001b[32m━━━━━━━━━━━━━━━━━━━━\u001b[0m\u001b[37m\u001b[0m \u001b[1m146s\u001b[0m 272ms/step - accuracy: 0.4315 - loss: 1.2821 - val_accuracy: 0.4000 - val_loss: 1.2947\n",
            "Epoch 4/5\n",
            "\u001b[1m413/413\u001b[0m \u001b[32m━━━━━━━━━━━━━━━━━━━━\u001b[0m\u001b[37m\u001b[0m \u001b[1m203s\u001b[0m 420ms/step - accuracy: 0.4650 - loss: 1.2240 - val_accuracy: 0.4081 - val_loss: 1.3131\n",
            "Epoch 5/5\n",
            "\u001b[1m413/413\u001b[0m \u001b[32m━━━━━━━━━━━━━━━━━━━━\u001b[0m\u001b[37m\u001b[0m \u001b[1m141s\u001b[0m 272ms/step - accuracy: 0.4785 - loss: 1.1771 - val_accuracy: 0.4162 - val_loss: 1.3281\n"
          ]
        },
        {
          "data": {
            "text/html": [],
            "text/plain": [
              "<IPython.core.display.HTML object>"
            ]
          },
          "metadata": {},
          "output_type": "display_data"
        },
        {
          "data": {
            "text/html": [
              "<br>    <style><br>        .wandb-row {<br>            display: flex;<br>            flex-direction: row;<br>            flex-wrap: wrap;<br>            justify-content: flex-start;<br>            width: 100%;<br>        }<br>        .wandb-col {<br>            display: flex;<br>            flex-direction: column;<br>            flex-basis: 100%;<br>            flex: 1;<br>            padding: 10px;<br>        }<br>    </style><br><div class=\"wandb-row\"><div class=\"wandb-col\"><h3>Run history:</h3><br/><table class=\"wandb\"><tr><td>epoch/accuracy</td><td>▁▄▆▇█</td></tr><tr><td>epoch/epoch</td><td>▁▃▅▆█</td></tr><tr><td>epoch/learning_rate</td><td>▁▁▁▁▁</td></tr><tr><td>epoch/loss</td><td>█▄▃▂▁</td></tr><tr><td>epoch/val_accuracy</td><td>▁█▆▇█</td></tr><tr><td>epoch/val_loss</td><td>█▄▁▂▃</td></tr></table><br/></div><div class=\"wandb-col\"><h3>Run summary:</h3><br/><table class=\"wandb\"><tr><td>epoch/accuracy</td><td>0.47697</td></tr><tr><td>epoch/epoch</td><td>4</td></tr><tr><td>epoch/learning_rate</td><td>0.001</td></tr><tr><td>epoch/loss</td><td>1.18443</td></tr><tr><td>epoch/val_accuracy</td><td>0.41622</td></tr><tr><td>epoch/val_loss</td><td>1.32806</td></tr></table><br/></div></div>"
            ],
            "text/plain": [
              "<IPython.core.display.HTML object>"
            ]
          },
          "metadata": {},
          "output_type": "display_data"
        },
        {
          "data": {
            "text/html": [
              " View run <strong style=\"color:#cdcd00\">fallen-sweep-13</strong> at: <a href='https://wandb.ai/fangselection123-happiest-minds-technologies/5-Flower-Dataset/runs/7a9g1sll' target=\"_blank\">https://wandb.ai/fangselection123-happiest-minds-technologies/5-Flower-Dataset/runs/7a9g1sll</a><br> View project at: <a href='https://wandb.ai/fangselection123-happiest-minds-technologies/5-Flower-Dataset' target=\"_blank\">https://wandb.ai/fangselection123-happiest-minds-technologies/5-Flower-Dataset</a><br>Synced 5 W&B file(s), 0 media file(s), 0 artifact file(s) and 0 other file(s)"
            ],
            "text/plain": [
              "<IPython.core.display.HTML object>"
            ]
          },
          "metadata": {},
          "output_type": "display_data"
        },
        {
          "data": {
            "text/html": [
              "Find logs at: <code>./wandb/run-20250614_063202-7a9g1sll/logs</code>"
            ],
            "text/plain": [
              "<IPython.core.display.HTML object>"
            ]
          },
          "metadata": {},
          "output_type": "display_data"
        },
        {
          "name": "stderr",
          "output_type": "stream",
          "text": [
            "\u001b[34m\u001b[1mwandb\u001b[0m: Agent Starting Run: awmxgipg with config:\n",
            "\u001b[34m\u001b[1mwandb\u001b[0m: \tbatch_size: 8\n",
            "\u001b[34m\u001b[1mwandb\u001b[0m: \tepochs: 5\n",
            "\u001b[34m\u001b[1mwandb\u001b[0m: \thidden_nodes: 64\n",
            "\u001b[34m\u001b[1mwandb\u001b[0m: \timg_size: 64\n",
            "\u001b[34m\u001b[1mwandb\u001b[0m: \tlearning_rate: 0.0001\n"
          ]
        },
        {
          "data": {
            "text/html": [
              "Tracking run with wandb version 0.19.11"
            ],
            "text/plain": [
              "<IPython.core.display.HTML object>"
            ]
          },
          "metadata": {},
          "output_type": "display_data"
        },
        {
          "data": {
            "text/html": [
              "Run data is saved locally in <code>/content/wandb/run-20250614_064506-awmxgipg</code>"
            ],
            "text/plain": [
              "<IPython.core.display.HTML object>"
            ]
          },
          "metadata": {},
          "output_type": "display_data"
        },
        {
          "data": {
            "text/html": [
              "Syncing run <strong><a href='https://wandb.ai/fangselection123-happiest-minds-technologies/5-Flower-Dataset/runs/awmxgipg' target=\"_blank\">peachy-sweep-14</a></strong> to <a href='https://wandb.ai/fangselection123-happiest-minds-technologies/5-Flower-Dataset' target=\"_blank\">Weights & Biases</a> (<a href='https://wandb.me/developer-guide' target=\"_blank\">docs</a>)<br>Sweep page: <a href='https://wandb.ai/fangselection123-happiest-minds-technologies/5-Flower-Dataset/sweeps/4c9k46ix' target=\"_blank\">https://wandb.ai/fangselection123-happiest-minds-technologies/5-Flower-Dataset/sweeps/4c9k46ix</a>"
            ],
            "text/plain": [
              "<IPython.core.display.HTML object>"
            ]
          },
          "metadata": {},
          "output_type": "display_data"
        },
        {
          "data": {
            "text/html": [
              " View project at <a href='https://wandb.ai/fangselection123-happiest-minds-technologies/5-Flower-Dataset' target=\"_blank\">https://wandb.ai/fangselection123-happiest-minds-technologies/5-Flower-Dataset</a>"
            ],
            "text/plain": [
              "<IPython.core.display.HTML object>"
            ]
          },
          "metadata": {},
          "output_type": "display_data"
        },
        {
          "data": {
            "text/html": [
              " View sweep at <a href='https://wandb.ai/fangselection123-happiest-minds-technologies/5-Flower-Dataset/sweeps/4c9k46ix' target=\"_blank\">https://wandb.ai/fangselection123-happiest-minds-technologies/5-Flower-Dataset/sweeps/4c9k46ix</a>"
            ],
            "text/plain": [
              "<IPython.core.display.HTML object>"
            ]
          },
          "metadata": {},
          "output_type": "display_data"
        },
        {
          "data": {
            "text/html": [
              " View run at <a href='https://wandb.ai/fangselection123-happiest-minds-technologies/5-Flower-Dataset/runs/awmxgipg' target=\"_blank\">https://wandb.ai/fangselection123-happiest-minds-technologies/5-Flower-Dataset/runs/awmxgipg</a>"
            ],
            "text/plain": [
              "<IPython.core.display.HTML object>"
            ]
          },
          "metadata": {},
          "output_type": "display_data"
        },
        {
          "name": "stdout",
          "output_type": "stream",
          "text": [
            "Epoch 1/5\n",
            "\u001b[1m413/413\u001b[0m \u001b[32m━━━━━━━━━━━━━━━━━━━━\u001b[0m\u001b[37m\u001b[0m \u001b[1m109s\u001b[0m 263ms/step - accuracy: 0.2722 - loss: 1.9127 - val_accuracy: 0.4324 - val_loss: 1.2982\n",
            "Epoch 2/5\n",
            "\u001b[1m413/413\u001b[0m \u001b[32m━━━━━━━━━━━━━━━━━━━━\u001b[0m\u001b[37m\u001b[0m \u001b[1m203s\u001b[0m 410ms/step - accuracy: 0.3819 - loss: 1.3415 - val_accuracy: 0.4459 - val_loss: 1.2932\n",
            "Epoch 3/5\n",
            "\u001b[1m413/413\u001b[0m \u001b[32m━━━━━━━━━━━━━━━━━━━━\u001b[0m\u001b[37m\u001b[0m \u001b[1m144s\u001b[0m 270ms/step - accuracy: 0.4179 - loss: 1.2826 - val_accuracy: 0.4622 - val_loss: 1.2744\n",
            "Epoch 4/5\n",
            "\u001b[1m413/413\u001b[0m \u001b[32m━━━━━━━━━━━━━━━━━━━━\u001b[0m\u001b[37m\u001b[0m \u001b[1m201s\u001b[0m 413ms/step - accuracy: 0.4324 - loss: 1.2437 - val_accuracy: 0.4595 - val_loss: 1.2277\n",
            "Epoch 5/5\n",
            "\u001b[1m413/413\u001b[0m \u001b[32m━━━━━━━━━━━━━━━━━━━━\u001b[0m\u001b[37m\u001b[0m \u001b[1m142s\u001b[0m 268ms/step - accuracy: 0.4543 - loss: 1.1998 - val_accuracy: 0.5000 - val_loss: 1.2383\n"
          ]
        },
        {
          "data": {
            "text/html": [],
            "text/plain": [
              "<IPython.core.display.HTML object>"
            ]
          },
          "metadata": {},
          "output_type": "display_data"
        },
        {
          "data": {
            "text/html": [
              "<br>    <style><br>        .wandb-row {<br>            display: flex;<br>            flex-direction: row;<br>            flex-wrap: wrap;<br>            justify-content: flex-start;<br>            width: 100%;<br>        }<br>        .wandb-col {<br>            display: flex;<br>            flex-direction: column;<br>            flex-basis: 100%;<br>            flex: 1;<br>            padding: 10px;<br>        }<br>    </style><br><div class=\"wandb-row\"><div class=\"wandb-col\"><h3>Run history:</h3><br/><table class=\"wandb\"><tr><td>epoch/accuracy</td><td>▁▅▆▇█</td></tr><tr><td>epoch/epoch</td><td>▁▃▅▆█</td></tr><tr><td>epoch/learning_rate</td><td>▁▁▁▁▁</td></tr><tr><td>epoch/loss</td><td>█▃▂▂▁</td></tr><tr><td>epoch/val_accuracy</td><td>▁▂▄▄█</td></tr><tr><td>epoch/val_loss</td><td>██▆▁▂</td></tr></table><br/></div><div class=\"wandb-col\"><h3>Run summary:</h3><br/><table class=\"wandb\"><tr><td>epoch/accuracy</td><td>0.4603</td></tr><tr><td>epoch/epoch</td><td>4</td></tr><tr><td>epoch/learning_rate</td><td>0.001</td></tr><tr><td>epoch/loss</td><td>1.20828</td></tr><tr><td>epoch/val_accuracy</td><td>0.5</td></tr><tr><td>epoch/val_loss</td><td>1.2383</td></tr></table><br/></div></div>"
            ],
            "text/plain": [
              "<IPython.core.display.HTML object>"
            ]
          },
          "metadata": {},
          "output_type": "display_data"
        },
        {
          "data": {
            "text/html": [
              " View run <strong style=\"color:#cdcd00\">peachy-sweep-14</strong> at: <a href='https://wandb.ai/fangselection123-happiest-minds-technologies/5-Flower-Dataset/runs/awmxgipg' target=\"_blank\">https://wandb.ai/fangselection123-happiest-minds-technologies/5-Flower-Dataset/runs/awmxgipg</a><br> View project at: <a href='https://wandb.ai/fangselection123-happiest-minds-technologies/5-Flower-Dataset' target=\"_blank\">https://wandb.ai/fangselection123-happiest-minds-technologies/5-Flower-Dataset</a><br>Synced 5 W&B file(s), 0 media file(s), 0 artifact file(s) and 0 other file(s)"
            ],
            "text/plain": [
              "<IPython.core.display.HTML object>"
            ]
          },
          "metadata": {},
          "output_type": "display_data"
        },
        {
          "data": {
            "text/html": [
              "Find logs at: <code>./wandb/run-20250614_064506-awmxgipg/logs</code>"
            ],
            "text/plain": [
              "<IPython.core.display.HTML object>"
            ]
          },
          "metadata": {},
          "output_type": "display_data"
        },
        {
          "name": "stderr",
          "output_type": "stream",
          "text": [
            "\u001b[34m\u001b[1mwandb\u001b[0m: Agent Starting Run: 7bl3nhpa with config:\n",
            "\u001b[34m\u001b[1mwandb\u001b[0m: \tbatch_size: 8\n",
            "\u001b[34m\u001b[1mwandb\u001b[0m: \tepochs: 5\n",
            "\u001b[34m\u001b[1mwandb\u001b[0m: \thidden_nodes: 64\n",
            "\u001b[34m\u001b[1mwandb\u001b[0m: \timg_size: 64\n",
            "\u001b[34m\u001b[1mwandb\u001b[0m: \tlearning_rate: 1e-05\n"
          ]
        },
        {
          "data": {
            "text/html": [
              "Tracking run with wandb version 0.19.11"
            ],
            "text/plain": [
              "<IPython.core.display.HTML object>"
            ]
          },
          "metadata": {},
          "output_type": "display_data"
        },
        {
          "data": {
            "text/html": [
              "Run data is saved locally in <code>/content/wandb/run-20250614_065911-7bl3nhpa</code>"
            ],
            "text/plain": [
              "<IPython.core.display.HTML object>"
            ]
          },
          "metadata": {},
          "output_type": "display_data"
        },
        {
          "data": {
            "text/html": [
              "Syncing run <strong><a href='https://wandb.ai/fangselection123-happiest-minds-technologies/5-Flower-Dataset/runs/7bl3nhpa' target=\"_blank\">noble-sweep-15</a></strong> to <a href='https://wandb.ai/fangselection123-happiest-minds-technologies/5-Flower-Dataset' target=\"_blank\">Weights & Biases</a> (<a href='https://wandb.me/developer-guide' target=\"_blank\">docs</a>)<br>Sweep page: <a href='https://wandb.ai/fangselection123-happiest-minds-technologies/5-Flower-Dataset/sweeps/4c9k46ix' target=\"_blank\">https://wandb.ai/fangselection123-happiest-minds-technologies/5-Flower-Dataset/sweeps/4c9k46ix</a>"
            ],
            "text/plain": [
              "<IPython.core.display.HTML object>"
            ]
          },
          "metadata": {},
          "output_type": "display_data"
        },
        {
          "data": {
            "text/html": [
              " View project at <a href='https://wandb.ai/fangselection123-happiest-minds-technologies/5-Flower-Dataset' target=\"_blank\">https://wandb.ai/fangselection123-happiest-minds-technologies/5-Flower-Dataset</a>"
            ],
            "text/plain": [
              "<IPython.core.display.HTML object>"
            ]
          },
          "metadata": {},
          "output_type": "display_data"
        },
        {
          "data": {
            "text/html": [
              " View sweep at <a href='https://wandb.ai/fangselection123-happiest-minds-technologies/5-Flower-Dataset/sweeps/4c9k46ix' target=\"_blank\">https://wandb.ai/fangselection123-happiest-minds-technologies/5-Flower-Dataset/sweeps/4c9k46ix</a>"
            ],
            "text/plain": [
              "<IPython.core.display.HTML object>"
            ]
          },
          "metadata": {},
          "output_type": "display_data"
        },
        {
          "data": {
            "text/html": [
              " View run at <a href='https://wandb.ai/fangselection123-happiest-minds-technologies/5-Flower-Dataset/runs/7bl3nhpa' target=\"_blank\">https://wandb.ai/fangselection123-happiest-minds-technologies/5-Flower-Dataset/runs/7bl3nhpa</a>"
            ],
            "text/plain": [
              "<IPython.core.display.HTML object>"
            ]
          },
          "metadata": {},
          "output_type": "display_data"
        },
        {
          "name": "stdout",
          "output_type": "stream",
          "text": [
            "Epoch 1/5\n",
            "\u001b[1m413/413\u001b[0m \u001b[32m━━━━━━━━━━━━━━━━━━━━\u001b[0m\u001b[37m\u001b[0m \u001b[1m109s\u001b[0m 263ms/step - accuracy: 0.3057 - loss: 1.9939 - val_accuracy: 0.3514 - val_loss: 1.4397\n",
            "Epoch 2/5\n",
            "\u001b[1m413/413\u001b[0m \u001b[32m━━━━━━━━━━━━━━━━━━━━\u001b[0m\u001b[37m\u001b[0m \u001b[1m142s\u001b[0m 262ms/step - accuracy: 0.4111 - loss: 1.3478 - val_accuracy: 0.4000 - val_loss: 1.3456\n",
            "Epoch 3/5\n",
            "\u001b[1m413/413\u001b[0m \u001b[32m━━━━━━━━━━━━━━━━━━━━\u001b[0m\u001b[37m\u001b[0m \u001b[1m142s\u001b[0m 344ms/step - accuracy: 0.4577 - loss: 1.2601 - val_accuracy: 0.3919 - val_loss: 1.3456\n",
            "Epoch 4/5\n",
            "\u001b[1m413/413\u001b[0m \u001b[32m━━━━━━━━━━━━━━━━━━━━\u001b[0m\u001b[37m\u001b[0m \u001b[1m201s\u001b[0m 342ms/step - accuracy: 0.4582 - loss: 1.2246 - val_accuracy: 0.4189 - val_loss: 1.2931\n",
            "Epoch 5/5\n",
            "\u001b[1m413/413\u001b[0m \u001b[32m━━━━━━━━━━━━━━━━━━━━\u001b[0m\u001b[37m\u001b[0m \u001b[1m143s\u001b[0m 345ms/step - accuracy: 0.4776 - loss: 1.1940 - val_accuracy: 0.4324 - val_loss: 1.3050\n"
          ]
        },
        {
          "data": {
            "text/html": [],
            "text/plain": [
              "<IPython.core.display.HTML object>"
            ]
          },
          "metadata": {},
          "output_type": "display_data"
        },
        {
          "data": {
            "text/html": [
              "<br>    <style><br>        .wandb-row {<br>            display: flex;<br>            flex-direction: row;<br>            flex-wrap: wrap;<br>            justify-content: flex-start;<br>            width: 100%;<br>        }<br>        .wandb-col {<br>            display: flex;<br>            flex-direction: column;<br>            flex-basis: 100%;<br>            flex: 1;<br>            padding: 10px;<br>        }<br>    </style><br><div class=\"wandb-row\"><div class=\"wandb-col\"><h3>Run history:</h3><br/><table class=\"wandb\"><tr><td>epoch/accuracy</td><td>▁▅▆▇█</td></tr><tr><td>epoch/epoch</td><td>▁▃▅▆█</td></tr><tr><td>epoch/learning_rate</td><td>▁▁▁▁▁</td></tr><tr><td>epoch/loss</td><td>█▃▂▁▁</td></tr><tr><td>epoch/val_accuracy</td><td>▁▅▅▇█</td></tr><tr><td>epoch/val_loss</td><td>█▄▄▁▂</td></tr></table><br/></div><div class=\"wandb-col\"><h3>Run summary:</h3><br/><table class=\"wandb\"><tr><td>epoch/accuracy</td><td>0.48273</td></tr><tr><td>epoch/epoch</td><td>4</td></tr><tr><td>epoch/learning_rate</td><td>0.001</td></tr><tr><td>epoch/loss</td><td>1.18737</td></tr><tr><td>epoch/val_accuracy</td><td>0.43243</td></tr><tr><td>epoch/val_loss</td><td>1.30504</td></tr></table><br/></div></div>"
            ],
            "text/plain": [
              "<IPython.core.display.HTML object>"
            ]
          },
          "metadata": {},
          "output_type": "display_data"
        },
        {
          "data": {
            "text/html": [
              " View run <strong style=\"color:#cdcd00\">noble-sweep-15</strong> at: <a href='https://wandb.ai/fangselection123-happiest-minds-technologies/5-Flower-Dataset/runs/7bl3nhpa' target=\"_blank\">https://wandb.ai/fangselection123-happiest-minds-technologies/5-Flower-Dataset/runs/7bl3nhpa</a><br> View project at: <a href='https://wandb.ai/fangselection123-happiest-minds-technologies/5-Flower-Dataset' target=\"_blank\">https://wandb.ai/fangselection123-happiest-minds-technologies/5-Flower-Dataset</a><br>Synced 5 W&B file(s), 0 media file(s), 0 artifact file(s) and 0 other file(s)"
            ],
            "text/plain": [
              "<IPython.core.display.HTML object>"
            ]
          },
          "metadata": {},
          "output_type": "display_data"
        },
        {
          "data": {
            "text/html": [
              "Find logs at: <code>./wandb/run-20250614_065911-7bl3nhpa/logs</code>"
            ],
            "text/plain": [
              "<IPython.core.display.HTML object>"
            ]
          },
          "metadata": {},
          "output_type": "display_data"
        },
        {
          "name": "stderr",
          "output_type": "stream",
          "text": [
            "\u001b[34m\u001b[1mwandb\u001b[0m: Agent Starting Run: jgkw1wwk with config:\n",
            "\u001b[34m\u001b[1mwandb\u001b[0m: \tbatch_size: 8\n",
            "\u001b[34m\u001b[1mwandb\u001b[0m: \tepochs: 5\n",
            "\u001b[34m\u001b[1mwandb\u001b[0m: \thidden_nodes: 64\n",
            "\u001b[34m\u001b[1mwandb\u001b[0m: \timg_size: 224\n",
            "\u001b[34m\u001b[1mwandb\u001b[0m: \tlearning_rate: 0.001\n"
          ]
        },
        {
          "data": {
            "text/html": [
              "Tracking run with wandb version 0.19.11"
            ],
            "text/plain": [
              "<IPython.core.display.HTML object>"
            ]
          },
          "metadata": {},
          "output_type": "display_data"
        },
        {
          "data": {
            "text/html": [
              "Run data is saved locally in <code>/content/wandb/run-20250614_071244-jgkw1wwk</code>"
            ],
            "text/plain": [
              "<IPython.core.display.HTML object>"
            ]
          },
          "metadata": {},
          "output_type": "display_data"
        },
        {
          "data": {
            "text/html": [
              "Syncing run <strong><a href='https://wandb.ai/fangselection123-happiest-minds-technologies/5-Flower-Dataset/runs/jgkw1wwk' target=\"_blank\">twilight-sweep-16</a></strong> to <a href='https://wandb.ai/fangselection123-happiest-minds-technologies/5-Flower-Dataset' target=\"_blank\">Weights & Biases</a> (<a href='https://wandb.me/developer-guide' target=\"_blank\">docs</a>)<br>Sweep page: <a href='https://wandb.ai/fangselection123-happiest-minds-technologies/5-Flower-Dataset/sweeps/4c9k46ix' target=\"_blank\">https://wandb.ai/fangselection123-happiest-minds-technologies/5-Flower-Dataset/sweeps/4c9k46ix</a>"
            ],
            "text/plain": [
              "<IPython.core.display.HTML object>"
            ]
          },
          "metadata": {},
          "output_type": "display_data"
        },
        {
          "data": {
            "text/html": [
              " View project at <a href='https://wandb.ai/fangselection123-happiest-minds-technologies/5-Flower-Dataset' target=\"_blank\">https://wandb.ai/fangselection123-happiest-minds-technologies/5-Flower-Dataset</a>"
            ],
            "text/plain": [
              "<IPython.core.display.HTML object>"
            ]
          },
          "metadata": {},
          "output_type": "display_data"
        },
        {
          "data": {
            "text/html": [
              " View sweep at <a href='https://wandb.ai/fangselection123-happiest-minds-technologies/5-Flower-Dataset/sweeps/4c9k46ix' target=\"_blank\">https://wandb.ai/fangselection123-happiest-minds-technologies/5-Flower-Dataset/sweeps/4c9k46ix</a>"
            ],
            "text/plain": [
              "<IPython.core.display.HTML object>"
            ]
          },
          "metadata": {},
          "output_type": "display_data"
        },
        {
          "data": {
            "text/html": [
              " View run at <a href='https://wandb.ai/fangselection123-happiest-minds-technologies/5-Flower-Dataset/runs/jgkw1wwk' target=\"_blank\">https://wandb.ai/fangselection123-happiest-minds-technologies/5-Flower-Dataset/runs/jgkw1wwk</a>"
            ],
            "text/plain": [
              "<IPython.core.display.HTML object>"
            ]
          },
          "metadata": {},
          "output_type": "display_data"
        },
        {
          "name": "stdout",
          "output_type": "stream",
          "text": [
            "Epoch 1/5\n",
            "\u001b[1m413/413\u001b[0m \u001b[32m━━━━━━━━━━━━━━━━━━━━\u001b[0m\u001b[37m\u001b[0m \u001b[1m142s\u001b[0m 343ms/step - accuracy: 0.3105 - loss: 14.5916 - val_accuracy: 0.3189 - val_loss: 3.0101\n",
            "Epoch 2/5\n",
            "\u001b[1m413/413\u001b[0m \u001b[32m━━━━━━━━━━━━━━━━━━━━\u001b[0m\u001b[37m\u001b[0m \u001b[1m144s\u001b[0m 349ms/step - accuracy: 0.2597 - loss: 2.1471 - val_accuracy: 0.2351 - val_loss: 1.6075\n",
            "Epoch 3/5\n",
            "\u001b[1m413/413\u001b[0m \u001b[32m━━━━━━━━━━━━━━━━━━━━\u001b[0m\u001b[37m\u001b[0m \u001b[1m200s\u001b[0m 485ms/step - accuracy: 0.2397 - loss: 1.6045 - val_accuracy: 0.2351 - val_loss: 1.6074\n",
            "Epoch 4/5\n",
            "\u001b[1m413/413\u001b[0m \u001b[32m━━━━━━━━━━━━━━━━━━━━\u001b[0m\u001b[37m\u001b[0m \u001b[1m202s\u001b[0m 486ms/step - accuracy: 0.2397 - loss: 1.6023 - val_accuracy: 0.2351 - val_loss: 1.6081\n",
            "Epoch 5/5\n",
            "\u001b[1m413/413\u001b[0m \u001b[32m━━━━━━━━━━━━━━━━━━━━\u001b[0m\u001b[37m\u001b[0m \u001b[1m201s\u001b[0m 484ms/step - accuracy: 0.2397 - loss: 1.6016 - val_accuracy: 0.2351 - val_loss: 1.6089\n"
          ]
        },
        {
          "data": {
            "text/html": [],
            "text/plain": [
              "<IPython.core.display.HTML object>"
            ]
          },
          "metadata": {},
          "output_type": "display_data"
        },
        {
          "data": {
            "text/html": [
              "<br>    <style><br>        .wandb-row {<br>            display: flex;<br>            flex-direction: row;<br>            flex-wrap: wrap;<br>            justify-content: flex-start;<br>            width: 100%;<br>        }<br>        .wandb-col {<br>            display: flex;<br>            flex-direction: column;<br>            flex-basis: 100%;<br>            flex: 1;<br>            padding: 10px;<br>        }<br>    </style><br><div class=\"wandb-row\"><div class=\"wandb-col\"><h3>Run history:</h3><br/><table class=\"wandb\"><tr><td>epoch/accuracy</td><td>█▁▁▁▁</td></tr><tr><td>epoch/epoch</td><td>▁▃▅▆█</td></tr><tr><td>epoch/learning_rate</td><td>▁▁▁▁▁</td></tr><tr><td>epoch/loss</td><td>█▁▁▁▁</td></tr><tr><td>epoch/val_accuracy</td><td>█▁▁▁▁</td></tr><tr><td>epoch/val_loss</td><td>█▁▁▁▁</td></tr></table><br/></div><div class=\"wandb-col\"><h3>Run summary:</h3><br/><table class=\"wandb\"><tr><td>epoch/accuracy</td><td>0.24576</td></tr><tr><td>epoch/epoch</td><td>4</td></tr><tr><td>epoch/learning_rate</td><td>0.001</td></tr><tr><td>epoch/loss</td><td>1.59977</td></tr><tr><td>epoch/val_accuracy</td><td>0.23514</td></tr><tr><td>epoch/val_loss</td><td>1.60893</td></tr></table><br/></div></div>"
            ],
            "text/plain": [
              "<IPython.core.display.HTML object>"
            ]
          },
          "metadata": {},
          "output_type": "display_data"
        },
        {
          "data": {
            "text/html": [
              " View run <strong style=\"color:#cdcd00\">twilight-sweep-16</strong> at: <a href='https://wandb.ai/fangselection123-happiest-minds-technologies/5-Flower-Dataset/runs/jgkw1wwk' target=\"_blank\">https://wandb.ai/fangselection123-happiest-minds-technologies/5-Flower-Dataset/runs/jgkw1wwk</a><br> View project at: <a href='https://wandb.ai/fangselection123-happiest-minds-technologies/5-Flower-Dataset' target=\"_blank\">https://wandb.ai/fangselection123-happiest-minds-technologies/5-Flower-Dataset</a><br>Synced 5 W&B file(s), 0 media file(s), 0 artifact file(s) and 0 other file(s)"
            ],
            "text/plain": [
              "<IPython.core.display.HTML object>"
            ]
          },
          "metadata": {},
          "output_type": "display_data"
        },
        {
          "data": {
            "text/html": [
              "Find logs at: <code>./wandb/run-20250614_071244-jgkw1wwk/logs</code>"
            ],
            "text/plain": [
              "<IPython.core.display.HTML object>"
            ]
          },
          "metadata": {},
          "output_type": "display_data"
        },
        {
          "name": "stderr",
          "output_type": "stream",
          "text": [
            "\u001b[34m\u001b[1mwandb\u001b[0m: Agent Starting Run: 1ex0dikw with config:\n",
            "\u001b[34m\u001b[1mwandb\u001b[0m: \tbatch_size: 8\n",
            "\u001b[34m\u001b[1mwandb\u001b[0m: \tepochs: 5\n",
            "\u001b[34m\u001b[1mwandb\u001b[0m: \thidden_nodes: 64\n",
            "\u001b[34m\u001b[1mwandb\u001b[0m: \timg_size: 224\n",
            "\u001b[34m\u001b[1mwandb\u001b[0m: \tlearning_rate: 0.0001\n"
          ]
        },
        {
          "data": {
            "text/html": [
              "Tracking run with wandb version 0.19.11"
            ],
            "text/plain": [
              "<IPython.core.display.HTML object>"
            ]
          },
          "metadata": {},
          "output_type": "display_data"
        },
        {
          "data": {
            "text/html": [
              "Run data is saved locally in <code>/content/wandb/run-20250614_072754-1ex0dikw</code>"
            ],
            "text/plain": [
              "<IPython.core.display.HTML object>"
            ]
          },
          "metadata": {},
          "output_type": "display_data"
        },
        {
          "data": {
            "text/html": [
              "Syncing run <strong><a href='https://wandb.ai/fangselection123-happiest-minds-technologies/5-Flower-Dataset/runs/1ex0dikw' target=\"_blank\">neat-sweep-17</a></strong> to <a href='https://wandb.ai/fangselection123-happiest-minds-technologies/5-Flower-Dataset' target=\"_blank\">Weights & Biases</a> (<a href='https://wandb.me/developer-guide' target=\"_blank\">docs</a>)<br>Sweep page: <a href='https://wandb.ai/fangselection123-happiest-minds-technologies/5-Flower-Dataset/sweeps/4c9k46ix' target=\"_blank\">https://wandb.ai/fangselection123-happiest-minds-technologies/5-Flower-Dataset/sweeps/4c9k46ix</a>"
            ],
            "text/plain": [
              "<IPython.core.display.HTML object>"
            ]
          },
          "metadata": {},
          "output_type": "display_data"
        },
        {
          "data": {
            "text/html": [
              " View project at <a href='https://wandb.ai/fangselection123-happiest-minds-technologies/5-Flower-Dataset' target=\"_blank\">https://wandb.ai/fangselection123-happiest-minds-technologies/5-Flower-Dataset</a>"
            ],
            "text/plain": [
              "<IPython.core.display.HTML object>"
            ]
          },
          "metadata": {},
          "output_type": "display_data"
        },
        {
          "data": {
            "text/html": [
              " View sweep at <a href='https://wandb.ai/fangselection123-happiest-minds-technologies/5-Flower-Dataset/sweeps/4c9k46ix' target=\"_blank\">https://wandb.ai/fangselection123-happiest-minds-technologies/5-Flower-Dataset/sweeps/4c9k46ix</a>"
            ],
            "text/plain": [
              "<IPython.core.display.HTML object>"
            ]
          },
          "metadata": {},
          "output_type": "display_data"
        },
        {
          "data": {
            "text/html": [
              " View run at <a href='https://wandb.ai/fangselection123-happiest-minds-technologies/5-Flower-Dataset/runs/1ex0dikw' target=\"_blank\">https://wandb.ai/fangselection123-happiest-minds-technologies/5-Flower-Dataset/runs/1ex0dikw</a>"
            ],
            "text/plain": [
              "<IPython.core.display.HTML object>"
            ]
          },
          "metadata": {},
          "output_type": "display_data"
        },
        {
          "name": "stdout",
          "output_type": "stream",
          "text": [
            "Epoch 1/5\n",
            "\u001b[1m413/413\u001b[0m \u001b[32m━━━━━━━━━━━━━━━━━━━━\u001b[0m\u001b[37m\u001b[0m \u001b[1m144s\u001b[0m 347ms/step - accuracy: 0.2152 - loss: 8.5075 - val_accuracy: 0.2351 - val_loss: 1.6079\n",
            "Epoch 2/5\n",
            "\u001b[1m413/413\u001b[0m \u001b[32m━━━━━━━━━━━━━━━━━━━━\u001b[0m\u001b[37m\u001b[0m \u001b[1m141s\u001b[0m 342ms/step - accuracy: 0.2397 - loss: 1.6035 - val_accuracy: 0.2351 - val_loss: 1.6080\n",
            "Epoch 3/5\n",
            "\u001b[1m413/413\u001b[0m \u001b[32m━━━━━━━━━━━━━━━━━━━━\u001b[0m\u001b[37m\u001b[0m \u001b[1m144s\u001b[0m 347ms/step - accuracy: 0.2397 - loss: 1.6019 - val_accuracy: 0.2351 - val_loss: 1.6087\n",
            "Epoch 4/5\n",
            "\u001b[1m291/413\u001b[0m \u001b[32m━━━━━━━━━━━━━━\u001b[0m\u001b[37m━━━━━━\u001b[0m \u001b[1m40s\u001b[0m 336ms/step - accuracy: 0.2370 - loss: 1.6025"
          ]
        }
      ],
      "source": [
        "wandb.agent(sweep_id, function=train)"
      ]
    },
    {
      "cell_type": "code",
      "execution_count": null,
      "metadata": {
        "id": "DE8MfAG7uhP1"
      },
      "outputs": [],
      "source": []
    }
  ],
  "metadata": {
    "colab": {
      "provenance": []
    },
    "kernelspec": {
      "display_name": "Python 3",
      "name": "python3"
    },
    "language_info": {
      "name": "python"
    }
  },
  "nbformat": 4,
  "nbformat_minor": 0
}